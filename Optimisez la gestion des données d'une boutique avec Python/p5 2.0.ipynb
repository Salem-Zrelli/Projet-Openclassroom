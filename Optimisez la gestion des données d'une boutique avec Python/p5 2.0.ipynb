{
 "cells": [
  {
   "cell_type": "code",
   "execution_count": 1,
   "id": "efce1798",
   "metadata": {},
   "outputs": [],
   "source": [
    "import pandas as pd\n",
    "import numpy as np\n",
    "import seaborn as sns \n",
    "import matplotlib.pyplot as plt\n",
    "from scipy import stats\n",
    "erp = pd.read_csv(\"erp.csv\",  sep=\";\") \n",
    "liaison = pd.read_csv(\"liaison.csv\",  sep=\";\")\n",
    "web = pd.read_csv(\"web.csv\",  sep=\";\")"
   ]
  },
  {
   "cell_type": "markdown",
   "id": "ef299235",
   "metadata": {},
   "source": [
    "### 1 - Nettoyage des jeu de données"
   ]
  },
  {
   "cell_type": "code",
   "execution_count": 2,
   "id": "2cbbb1d3",
   "metadata": {},
   "outputs": [],
   "source": [
    "# Renomme la colonne sku pour avoir une concordance avec les autres data frames si besoin.\n",
    "web.rename(columns={'sku' : 'id_web'}, inplace=True)"
   ]
  },
  {
   "cell_type": "code",
   "execution_count": 3,
   "id": "142771cb",
   "metadata": {},
   "outputs": [
    {
     "data": {
      "text/plain": [
       "product_id         int64\n",
       "onsale_web         int64\n",
       "price             object\n",
       "stock_quantity     int64\n",
       "stock_status      object\n",
       "dtype: object"
      ]
     },
     "execution_count": 3,
     "metadata": {},
     "output_type": "execute_result"
    }
   ],
   "source": [
    "erp.dtypes"
   ]
  },
  {
   "cell_type": "code",
   "execution_count": 4,
   "id": "ca28bc8b",
   "metadata": {},
   "outputs": [
    {
     "data": {
      "text/plain": [
       "0      24,2\n",
       "1      34,3\n",
       "2      20,8\n",
       "3      14,1\n",
       "4        46\n",
       "       ... \n",
       "820      45\n",
       "821      45\n",
       "822    54,8\n",
       "823    26,5\n",
       "824    16,3\n",
       "Name: price, Length: 825, dtype: object"
      ]
     },
     "execution_count": 4,
     "metadata": {},
     "output_type": "execute_result"
    }
   ],
   "source": [
    "erp['price']"
   ]
  },
  {
   "cell_type": "code",
   "execution_count": 5,
   "id": "1b70d48a",
   "metadata": {},
   "outputs": [
    {
     "data": {
      "text/plain": [
       "product_id          int64\n",
       "onsale_web          int64\n",
       "price             float64\n",
       "stock_quantity      int64\n",
       "stock_status       object\n",
       "dtype: object"
      ]
     },
     "execution_count": 5,
     "metadata": {},
     "output_type": "execute_result"
    }
   ],
   "source": [
    "# Correction du types de données de la colonne price\n",
    "erp['price'] = erp['price'].str.replace(',','.')\n",
    "erp['price']= pd.to_numeric(erp['price'])\n",
    "erp.dtypes"
   ]
  },
  {
   "cell_type": "code",
   "execution_count": 6,
   "id": "a97236c8",
   "metadata": {},
   "outputs": [
    {
     "data": {
      "text/plain": [
       "id_web                    object\n",
       "virtual                    int64\n",
       "downloadable               int64\n",
       "rating_count               int64\n",
       "average_rating           float64\n",
       "total_sales              float64\n",
       "tax_status                object\n",
       "tax_class                float64\n",
       "post_author              float64\n",
       "post_date                 object\n",
       "post_date_gmt             object\n",
       "post_content             float64\n",
       "post_title                object\n",
       "post_excerpt              object\n",
       "post_status               object\n",
       "comment_status            object\n",
       "ping_status               object\n",
       "post_password            float64\n",
       "post_name                 object\n",
       "post_modified             object\n",
       "post_modified_gmt         object\n",
       "post_content_filtered    float64\n",
       "post_parent              float64\n",
       "guid                      object\n",
       "menu_order               float64\n",
       "post_type                 object\n",
       "post_mime_type            object\n",
       "comment_count            float64\n",
       "dtype: object"
      ]
     },
     "execution_count": 6,
     "metadata": {},
     "output_type": "execute_result"
    }
   ],
   "source": [
    "web.dtypes"
   ]
  },
  {
   "cell_type": "code",
   "execution_count": 35,
   "id": "58b07582",
   "metadata": {},
   "outputs": [
    {
     "data": {
      "text/plain": [
       "array(['product', nan, 'attachment'], dtype=object)"
      ]
     },
     "execution_count": 35,
     "metadata": {},
     "output_type": "execute_result"
    }
   ],
   "source": [
    "web['post_type'].unique()"
   ]
  },
  {
   "cell_type": "code",
   "execution_count": 7,
   "id": "949fd36d",
   "metadata": {},
   "outputs": [
    {
     "data": {
      "text/plain": [
       "id_web                     2\n",
       "virtual                    0\n",
       "downloadable               0\n",
       "rating_count               0\n",
       "average_rating             0\n",
       "total_sales                0\n",
       "tax_status                 0\n",
       "tax_class                716\n",
       "post_author                0\n",
       "post_date                  0\n",
       "post_date_gmt              0\n",
       "post_content             716\n",
       "post_title                 0\n",
       "post_excerpt               0\n",
       "post_status                0\n",
       "comment_status             0\n",
       "ping_status                0\n",
       "post_password            716\n",
       "post_name                  0\n",
       "post_modified              0\n",
       "post_modified_gmt          0\n",
       "post_content_filtered    716\n",
       "post_parent                0\n",
       "guid                       0\n",
       "menu_order                 0\n",
       "post_type                  0\n",
       "post_mime_type           716\n",
       "comment_count              0\n",
       "dtype: int64"
      ]
     },
     "execution_count": 7,
     "metadata": {},
     "output_type": "execute_result"
    }
   ],
   "source": [
    "# On isole les lignes pour lequel le post fait reference a un produit\n",
    "web_prod = web.loc[web['post_type']=='product']\n",
    "web_prod.isna().sum()"
   ]
  },
  {
   "cell_type": "code",
   "execution_count": 8,
   "id": "77fd2e52",
   "metadata": {},
   "outputs": [
    {
     "data": {
      "text/plain": [
       "(716, 28)"
      ]
     },
     "execution_count": 8,
     "metadata": {},
     "output_type": "execute_result"
    }
   ],
   "source": [
    "# Visualisation des données que nous avons\n",
    "web_prod.shape"
   ]
  },
  {
   "cell_type": "code",
   "execution_count": 9,
   "id": "dabb7cc4",
   "metadata": {},
   "outputs": [
    {
     "name": "stderr",
     "output_type": "stream",
     "text": [
      "C:\\Users\\Salem\\Python\\lib\\site-packages\\pandas\\util\\_decorators.py:311: SettingWithCopyWarning: \n",
      "A value is trying to be set on a copy of a slice from a DataFrame\n",
      "\n",
      "See the caveats in the documentation: https://pandas.pydata.org/pandas-docs/stable/user_guide/indexing.html#returning-a-view-versus-a-copy\n",
      "  return func(*args, **kwargs)\n"
     ]
    },
    {
     "data": {
      "text/plain": [
       "id_web               2\n",
       "virtual              0\n",
       "downloadable         0\n",
       "rating_count         0\n",
       "average_rating       0\n",
       "total_sales          0\n",
       "tax_status           0\n",
       "post_author          0\n",
       "post_date            0\n",
       "post_date_gmt        0\n",
       "post_title           0\n",
       "post_excerpt         0\n",
       "post_status          0\n",
       "comment_status       0\n",
       "ping_status          0\n",
       "post_name            0\n",
       "post_modified        0\n",
       "post_modified_gmt    0\n",
       "post_parent          0\n",
       "guid                 0\n",
       "menu_order           0\n",
       "post_type            0\n",
       "comment_count        0\n",
       "dtype: int64"
      ]
     },
     "execution_count": 9,
     "metadata": {},
     "output_type": "execute_result"
    }
   ],
   "source": [
    "# Suppression des colonnes où il y a 100% de données manquantes\n",
    "web_prod.dropna(how='all',axis=1,inplace=True)\n",
    "web_prod.isna().sum()"
   ]
  },
  {
   "cell_type": "code",
   "execution_count": 10,
   "id": "9b266557",
   "metadata": {
    "scrolled": true
   },
   "outputs": [
    {
     "data": {
      "text/html": [
       "<div>\n",
       "<style scoped>\n",
       "    .dataframe tbody tr th:only-of-type {\n",
       "        vertical-align: middle;\n",
       "    }\n",
       "\n",
       "    .dataframe tbody tr th {\n",
       "        vertical-align: top;\n",
       "    }\n",
       "\n",
       "    .dataframe thead th {\n",
       "        text-align: right;\n",
       "    }\n",
       "</style>\n",
       "<table border=\"1\" class=\"dataframe\">\n",
       "  <thead>\n",
       "    <tr style=\"text-align: right;\">\n",
       "      <th></th>\n",
       "      <th>id_web</th>\n",
       "      <th>virtual</th>\n",
       "      <th>downloadable</th>\n",
       "      <th>rating_count</th>\n",
       "      <th>average_rating</th>\n",
       "      <th>total_sales</th>\n",
       "      <th>tax_status</th>\n",
       "      <th>post_author</th>\n",
       "      <th>post_date</th>\n",
       "      <th>post_date_gmt</th>\n",
       "      <th>...</th>\n",
       "      <th>comment_status</th>\n",
       "      <th>ping_status</th>\n",
       "      <th>post_name</th>\n",
       "      <th>post_modified</th>\n",
       "      <th>post_modified_gmt</th>\n",
       "      <th>post_parent</th>\n",
       "      <th>guid</th>\n",
       "      <th>menu_order</th>\n",
       "      <th>post_type</th>\n",
       "      <th>comment_count</th>\n",
       "    </tr>\n",
       "  </thead>\n",
       "  <tbody>\n",
       "    <tr>\n",
       "      <th>470</th>\n",
       "      <td>NaN</td>\n",
       "      <td>0</td>\n",
       "      <td>0</td>\n",
       "      <td>0</td>\n",
       "      <td>0.0</td>\n",
       "      <td>0.0</td>\n",
       "      <td>taxable</td>\n",
       "      <td>2.0</td>\n",
       "      <td>2018-07-31 12:07:23</td>\n",
       "      <td>2018-07-31 10:07:23</td>\n",
       "      <td>...</td>\n",
       "      <td>closed</td>\n",
       "      <td>closed</td>\n",
       "      <td>pierre-jean-villa-cote-rotie-fongeant-2017</td>\n",
       "      <td>2019-11-02 13:24:15</td>\n",
       "      <td>2019-11-02 12:24:15</td>\n",
       "      <td>0.0</td>\n",
       "      <td>https://www.bottle-neck.fr/?post_type=product&amp;...</td>\n",
       "      <td>0.0</td>\n",
       "      <td>product</td>\n",
       "      <td>0.0</td>\n",
       "    </tr>\n",
       "    <tr>\n",
       "      <th>471</th>\n",
       "      <td>NaN</td>\n",
       "      <td>0</td>\n",
       "      <td>0</td>\n",
       "      <td>0</td>\n",
       "      <td>0.0</td>\n",
       "      <td>0.0</td>\n",
       "      <td>taxable</td>\n",
       "      <td>2.0</td>\n",
       "      <td>2018-08-08 11:23:43</td>\n",
       "      <td>2018-08-08 09:23:43</td>\n",
       "      <td>...</td>\n",
       "      <td>closed</td>\n",
       "      <td>closed</td>\n",
       "      <td>pierre-jean-villa-condrieu-suspendu-2018</td>\n",
       "      <td>2019-11-02 13:24:01</td>\n",
       "      <td>2019-11-02 12:24:01</td>\n",
       "      <td>0.0</td>\n",
       "      <td>https://www.bottle-neck.fr/?post_type=product&amp;...</td>\n",
       "      <td>0.0</td>\n",
       "      <td>product</td>\n",
       "      <td>0.0</td>\n",
       "    </tr>\n",
       "  </tbody>\n",
       "</table>\n",
       "<p>2 rows × 23 columns</p>\n",
       "</div>"
      ],
      "text/plain": [
       "    id_web  virtual  downloadable  rating_count  average_rating  total_sales  \\\n",
       "470    NaN        0             0             0             0.0          0.0   \n",
       "471    NaN        0             0             0             0.0          0.0   \n",
       "\n",
       "    tax_status  post_author            post_date        post_date_gmt  ...  \\\n",
       "470    taxable          2.0  2018-07-31 12:07:23  2018-07-31 10:07:23  ...   \n",
       "471    taxable          2.0  2018-08-08 11:23:43  2018-08-08 09:23:43  ...   \n",
       "\n",
       "    comment_status ping_status                                   post_name  \\\n",
       "470         closed      closed  pierre-jean-villa-cote-rotie-fongeant-2017   \n",
       "471         closed      closed    pierre-jean-villa-condrieu-suspendu-2018   \n",
       "\n",
       "           post_modified    post_modified_gmt post_parent  \\\n",
       "470  2019-11-02 13:24:15  2019-11-02 12:24:15         0.0   \n",
       "471  2019-11-02 13:24:01  2019-11-02 12:24:01         0.0   \n",
       "\n",
       "                                                  guid menu_order  post_type  \\\n",
       "470  https://www.bottle-neck.fr/?post_type=product&...        0.0    product   \n",
       "471  https://www.bottle-neck.fr/?post_type=product&...        0.0    product   \n",
       "\n",
       "    comment_count  \n",
       "470           0.0  \n",
       "471           0.0  \n",
       "\n",
       "[2 rows x 23 columns]"
      ]
     },
     "execution_count": 10,
     "metadata": {},
     "output_type": "execute_result"
    }
   ],
   "source": [
    "idweb_na = web_prod.loc[web_prod['id_web'].isna()]\n",
    "idweb_na"
   ]
  },
  {
   "cell_type": "markdown",
   "id": "43201abc",
   "metadata": {},
   "source": [
    "Ici, nous avons la présence de deux valeurs manquantes, il nous est impossible de determiné leur id_web par manque d'information.\n",
    "\n",
    "C'est pourquoi, nous stockons ces deux données dans une variable pour pouvoir les transmettre au service chargé d'extraire les données du site, afin de voir à quoi correspondent ces valeurs manquantes.\n",
    "\n",
    "Cela pourrais correspondre a des produits qui ne sont plus en ventes a l'heure actuelle sur le site."
   ]
  },
  {
   "cell_type": "code",
   "execution_count": 11,
   "id": "bbc44392",
   "metadata": {},
   "outputs": [
    {
     "name": "stderr",
     "output_type": "stream",
     "text": [
      "C:\\Users\\Salem\\Python\\lib\\site-packages\\pandas\\util\\_decorators.py:311: SettingWithCopyWarning: \n",
      "A value is trying to be set on a copy of a slice from a DataFrame\n",
      "\n",
      "See the caveats in the documentation: https://pandas.pydata.org/pandas-docs/stable/user_guide/indexing.html#returning-a-view-versus-a-copy\n",
      "  return func(*args, **kwargs)\n"
     ]
    }
   ],
   "source": [
    "# Suppression des valeurs manquantes presente dans id_web\n",
    "web_prod.dropna(inplace=True)"
   ]
  },
  {
   "cell_type": "code",
   "execution_count": 12,
   "id": "66ca057a",
   "metadata": {},
   "outputs": [
    {
     "data": {
      "text/plain": [
       "(714, 23)"
      ]
     },
     "execution_count": 12,
     "metadata": {},
     "output_type": "execute_result"
    }
   ],
   "source": [
    "web_prod.shape"
   ]
  },
  {
   "cell_type": "code",
   "execution_count": 13,
   "id": "353d2f5f",
   "metadata": {},
   "outputs": [
    {
     "data": {
      "text/html": [
       "<div>\n",
       "<style scoped>\n",
       "    .dataframe tbody tr th:only-of-type {\n",
       "        vertical-align: middle;\n",
       "    }\n",
       "\n",
       "    .dataframe tbody tr th {\n",
       "        vertical-align: top;\n",
       "    }\n",
       "\n",
       "    .dataframe thead th {\n",
       "        text-align: right;\n",
       "    }\n",
       "</style>\n",
       "<table border=\"1\" class=\"dataframe\">\n",
       "  <thead>\n",
       "    <tr style=\"text-align: right;\">\n",
       "      <th></th>\n",
       "      <th>product_id</th>\n",
       "      <th>id_web</th>\n",
       "    </tr>\n",
       "  </thead>\n",
       "  <tbody>\n",
       "    <tr>\n",
       "      <th>0</th>\n",
       "      <td>3847</td>\n",
       "      <td>15298</td>\n",
       "    </tr>\n",
       "    <tr>\n",
       "      <th>1</th>\n",
       "      <td>3849</td>\n",
       "      <td>15296</td>\n",
       "    </tr>\n",
       "    <tr>\n",
       "      <th>2</th>\n",
       "      <td>3850</td>\n",
       "      <td>15300</td>\n",
       "    </tr>\n",
       "    <tr>\n",
       "      <th>3</th>\n",
       "      <td>4032</td>\n",
       "      <td>19814</td>\n",
       "    </tr>\n",
       "    <tr>\n",
       "      <th>4</th>\n",
       "      <td>4039</td>\n",
       "      <td>19815</td>\n",
       "    </tr>\n",
       "    <tr>\n",
       "      <th>...</th>\n",
       "      <td>...</td>\n",
       "      <td>...</td>\n",
       "    </tr>\n",
       "    <tr>\n",
       "      <th>820</th>\n",
       "      <td>7203</td>\n",
       "      <td>NaN</td>\n",
       "    </tr>\n",
       "    <tr>\n",
       "      <th>821</th>\n",
       "      <td>7204</td>\n",
       "      <td>NaN</td>\n",
       "    </tr>\n",
       "    <tr>\n",
       "      <th>822</th>\n",
       "      <td>7247</td>\n",
       "      <td>13127-1</td>\n",
       "    </tr>\n",
       "    <tr>\n",
       "      <th>823</th>\n",
       "      <td>7329</td>\n",
       "      <td>14680-1</td>\n",
       "    </tr>\n",
       "    <tr>\n",
       "      <th>824</th>\n",
       "      <td>7338</td>\n",
       "      <td>16230</td>\n",
       "    </tr>\n",
       "  </tbody>\n",
       "</table>\n",
       "<p>825 rows × 2 columns</p>\n",
       "</div>"
      ],
      "text/plain": [
       "     product_id   id_web\n",
       "0          3847    15298\n",
       "1          3849    15296\n",
       "2          3850    15300\n",
       "3          4032    19814\n",
       "4          4039    19815\n",
       "..          ...      ...\n",
       "820        7203      NaN\n",
       "821        7204      NaN\n",
       "822        7247  13127-1\n",
       "823        7329  14680-1\n",
       "824        7338    16230\n",
       "\n",
       "[825 rows x 2 columns]"
      ]
     },
     "execution_count": 13,
     "metadata": {},
     "output_type": "execute_result"
    }
   ],
   "source": [
    "liaison"
   ]
  },
  {
   "cell_type": "code",
   "execution_count": 14,
   "id": "7acec117",
   "metadata": {},
   "outputs": [
    {
     "data": {
      "text/plain": [
       "product_id     0\n",
       "id_web        91\n",
       "dtype: int64"
      ]
     },
     "execution_count": 14,
     "metadata": {},
     "output_type": "execute_result"
    }
   ],
   "source": [
    "# Visualisation des données manquantes presente dans le dataframes liaison \n",
    "liaison.isna().sum()"
   ]
  },
  {
   "cell_type": "code",
   "execution_count": 15,
   "id": "aec1dbd0",
   "metadata": {},
   "outputs": [
    {
     "data": {
      "text/html": [
       "<div>\n",
       "<style scoped>\n",
       "    .dataframe tbody tr th:only-of-type {\n",
       "        vertical-align: middle;\n",
       "    }\n",
       "\n",
       "    .dataframe tbody tr th {\n",
       "        vertical-align: top;\n",
       "    }\n",
       "\n",
       "    .dataframe thead th {\n",
       "        text-align: right;\n",
       "    }\n",
       "</style>\n",
       "<table border=\"1\" class=\"dataframe\">\n",
       "  <thead>\n",
       "    <tr style=\"text-align: right;\">\n",
       "      <th></th>\n",
       "      <th>product_id</th>\n",
       "      <th>id_web</th>\n",
       "    </tr>\n",
       "  </thead>\n",
       "  <tbody>\n",
       "    <tr>\n",
       "      <th>19</th>\n",
       "      <td>4055</td>\n",
       "      <td>NaN</td>\n",
       "    </tr>\n",
       "    <tr>\n",
       "      <th>49</th>\n",
       "      <td>4090</td>\n",
       "      <td>NaN</td>\n",
       "    </tr>\n",
       "    <tr>\n",
       "      <th>50</th>\n",
       "      <td>4092</td>\n",
       "      <td>NaN</td>\n",
       "    </tr>\n",
       "    <tr>\n",
       "      <th>119</th>\n",
       "      <td>4195</td>\n",
       "      <td>NaN</td>\n",
       "    </tr>\n",
       "    <tr>\n",
       "      <th>131</th>\n",
       "      <td>4209</td>\n",
       "      <td>NaN</td>\n",
       "    </tr>\n",
       "    <tr>\n",
       "      <th>...</th>\n",
       "      <td>...</td>\n",
       "      <td>...</td>\n",
       "    </tr>\n",
       "    <tr>\n",
       "      <th>817</th>\n",
       "      <td>7196</td>\n",
       "      <td>NaN</td>\n",
       "    </tr>\n",
       "    <tr>\n",
       "      <th>818</th>\n",
       "      <td>7200</td>\n",
       "      <td>NaN</td>\n",
       "    </tr>\n",
       "    <tr>\n",
       "      <th>819</th>\n",
       "      <td>7201</td>\n",
       "      <td>NaN</td>\n",
       "    </tr>\n",
       "    <tr>\n",
       "      <th>820</th>\n",
       "      <td>7203</td>\n",
       "      <td>NaN</td>\n",
       "    </tr>\n",
       "    <tr>\n",
       "      <th>821</th>\n",
       "      <td>7204</td>\n",
       "      <td>NaN</td>\n",
       "    </tr>\n",
       "  </tbody>\n",
       "</table>\n",
       "<p>91 rows × 2 columns</p>\n",
       "</div>"
      ],
      "text/plain": [
       "     product_id id_web\n",
       "19         4055    NaN\n",
       "49         4090    NaN\n",
       "50         4092    NaN\n",
       "119        4195    NaN\n",
       "131        4209    NaN\n",
       "..          ...    ...\n",
       "817        7196    NaN\n",
       "818        7200    NaN\n",
       "819        7201    NaN\n",
       "820        7203    NaN\n",
       "821        7204    NaN\n",
       "\n",
       "[91 rows x 2 columns]"
      ]
     },
     "execution_count": 15,
     "metadata": {},
     "output_type": "execute_result"
    }
   ],
   "source": [
    "# Les lignes où id web est une valeur manquantes dans le dataframe liaison\n",
    "liaison.loc[liaison['id_web'].isna()]"
   ]
  },
  {
   "cell_type": "markdown",
   "id": "02108fcf",
   "metadata": {},
   "source": [
    "Il n'y a pas moyen de trouver une quelconque relation permettant de lié les valeurs manquante au product_id \n",
    "\n",
    "On peut garder les valeurs manquantes qui se supprimerons apres un possible merge\n",
    "\n",
    "De meme que précédement nous allons stocker ces donnée dans une variable afin de transmettre celle ci au service compétant qui pourront nous expliquer pourquoi certains produit n'ont pas leur concordance sur le site.\n",
    "\n",
    "Cela pourrait s'expliquer par la simple raison que certains produit ce vend uniquement en physique.\n",
    "\n"
   ]
  },
  {
   "cell_type": "code",
   "execution_count": 16,
   "id": "5b134e8a",
   "metadata": {},
   "outputs": [],
   "source": [
    "liaison_na = liaison.loc[liaison['id_web'].isna()]"
   ]
  },
  {
   "cell_type": "markdown",
   "id": "b5e70b3b",
   "metadata": {},
   "source": [
    "### 2 - Merge et rapprochement"
   ]
  },
  {
   "cell_type": "markdown",
   "id": "b77a101f",
   "metadata": {},
   "source": [
    "Nous devons maintenant faire le rapprochement entre les differents dataframes, pour cela on utilise .merge pour faire la jointure entre plusieurs table.\n",
    "\n",
    "Pour savoir qu'elle merge nous allons utiliser pour la jointure entre erp et liaison, nous allons faire des test grâce au parametre indicator=True de la methode .merge entre un merge left et un merge outer qui nous permettra de voir si le product id est present dans les deux data frames et pour savoir ensuite qu'elle jointure nous garderons"
   ]
  },
  {
   "cell_type": "code",
   "execution_count": 17,
   "id": "efb6ea52",
   "metadata": {},
   "outputs": [
    {
     "data": {
      "text/html": [
       "<div>\n",
       "<style scoped>\n",
       "    .dataframe tbody tr th:only-of-type {\n",
       "        vertical-align: middle;\n",
       "    }\n",
       "\n",
       "    .dataframe tbody tr th {\n",
       "        vertical-align: top;\n",
       "    }\n",
       "\n",
       "    .dataframe thead th {\n",
       "        text-align: right;\n",
       "    }\n",
       "</style>\n",
       "<table border=\"1\" class=\"dataframe\">\n",
       "  <thead>\n",
       "    <tr style=\"text-align: right;\">\n",
       "      <th></th>\n",
       "      <th>product_id</th>\n",
       "      <th>onsale_web</th>\n",
       "      <th>price</th>\n",
       "      <th>stock_quantity</th>\n",
       "      <th>stock_status</th>\n",
       "      <th>id_web</th>\n",
       "      <th>_merge</th>\n",
       "    </tr>\n",
       "  </thead>\n",
       "  <tbody>\n",
       "    <tr>\n",
       "      <th>0</th>\n",
       "      <td>3847</td>\n",
       "      <td>1</td>\n",
       "      <td>24.2</td>\n",
       "      <td>0</td>\n",
       "      <td>outofstock</td>\n",
       "      <td>15298</td>\n",
       "      <td>both</td>\n",
       "    </tr>\n",
       "    <tr>\n",
       "      <th>1</th>\n",
       "      <td>3849</td>\n",
       "      <td>1</td>\n",
       "      <td>34.3</td>\n",
       "      <td>0</td>\n",
       "      <td>outofstock</td>\n",
       "      <td>15296</td>\n",
       "      <td>both</td>\n",
       "    </tr>\n",
       "    <tr>\n",
       "      <th>2</th>\n",
       "      <td>3850</td>\n",
       "      <td>1</td>\n",
       "      <td>20.8</td>\n",
       "      <td>0</td>\n",
       "      <td>outofstock</td>\n",
       "      <td>15300</td>\n",
       "      <td>both</td>\n",
       "    </tr>\n",
       "    <tr>\n",
       "      <th>3</th>\n",
       "      <td>4032</td>\n",
       "      <td>1</td>\n",
       "      <td>14.1</td>\n",
       "      <td>0</td>\n",
       "      <td>outofstock</td>\n",
       "      <td>19814</td>\n",
       "      <td>both</td>\n",
       "    </tr>\n",
       "    <tr>\n",
       "      <th>4</th>\n",
       "      <td>4039</td>\n",
       "      <td>1</td>\n",
       "      <td>46.0</td>\n",
       "      <td>0</td>\n",
       "      <td>outofstock</td>\n",
       "      <td>19815</td>\n",
       "      <td>both</td>\n",
       "    </tr>\n",
       "    <tr>\n",
       "      <th>...</th>\n",
       "      <td>...</td>\n",
       "      <td>...</td>\n",
       "      <td>...</td>\n",
       "      <td>...</td>\n",
       "      <td>...</td>\n",
       "      <td>...</td>\n",
       "      <td>...</td>\n",
       "    </tr>\n",
       "    <tr>\n",
       "      <th>820</th>\n",
       "      <td>7203</td>\n",
       "      <td>0</td>\n",
       "      <td>45.0</td>\n",
       "      <td>30</td>\n",
       "      <td>instock</td>\n",
       "      <td>NaN</td>\n",
       "      <td>both</td>\n",
       "    </tr>\n",
       "    <tr>\n",
       "      <th>821</th>\n",
       "      <td>7204</td>\n",
       "      <td>0</td>\n",
       "      <td>45.0</td>\n",
       "      <td>9</td>\n",
       "      <td>instock</td>\n",
       "      <td>NaN</td>\n",
       "      <td>both</td>\n",
       "    </tr>\n",
       "    <tr>\n",
       "      <th>822</th>\n",
       "      <td>7247</td>\n",
       "      <td>1</td>\n",
       "      <td>54.8</td>\n",
       "      <td>23</td>\n",
       "      <td>instock</td>\n",
       "      <td>13127-1</td>\n",
       "      <td>both</td>\n",
       "    </tr>\n",
       "    <tr>\n",
       "      <th>823</th>\n",
       "      <td>7329</td>\n",
       "      <td>0</td>\n",
       "      <td>26.5</td>\n",
       "      <td>14</td>\n",
       "      <td>instock</td>\n",
       "      <td>14680-1</td>\n",
       "      <td>both</td>\n",
       "    </tr>\n",
       "    <tr>\n",
       "      <th>824</th>\n",
       "      <td>7338</td>\n",
       "      <td>1</td>\n",
       "      <td>16.3</td>\n",
       "      <td>45</td>\n",
       "      <td>instock</td>\n",
       "      <td>16230</td>\n",
       "      <td>both</td>\n",
       "    </tr>\n",
       "  </tbody>\n",
       "</table>\n",
       "<p>825 rows × 7 columns</p>\n",
       "</div>"
      ],
      "text/plain": [
       "     product_id  onsale_web  price  stock_quantity stock_status   id_web  \\\n",
       "0          3847           1   24.2               0   outofstock    15298   \n",
       "1          3849           1   34.3               0   outofstock    15296   \n",
       "2          3850           1   20.8               0   outofstock    15300   \n",
       "3          4032           1   14.1               0   outofstock    19814   \n",
       "4          4039           1   46.0               0   outofstock    19815   \n",
       "..          ...         ...    ...             ...          ...      ...   \n",
       "820        7203           0   45.0              30      instock      NaN   \n",
       "821        7204           0   45.0               9      instock      NaN   \n",
       "822        7247           1   54.8              23      instock  13127-1   \n",
       "823        7329           0   26.5              14      instock  14680-1   \n",
       "824        7338           1   16.3              45      instock    16230   \n",
       "\n",
       "    _merge  \n",
       "0     both  \n",
       "1     both  \n",
       "2     both  \n",
       "3     both  \n",
       "4     both  \n",
       "..     ...  \n",
       "820   both  \n",
       "821   both  \n",
       "822   both  \n",
       "823   both  \n",
       "824   both  \n",
       "\n",
       "[825 rows x 7 columns]"
      ]
     },
     "execution_count": 17,
     "metadata": {},
     "output_type": "execute_result"
    }
   ],
   "source": [
    "# Test d'un merge outer des data frames erp et liaison \n",
    "erp_liai_test1 = pd.merge(erp,liaison, on='product_id', how='outer',indicator= True)\n",
    "erp_liai_test1"
   ]
  },
  {
   "cell_type": "code",
   "execution_count": 18,
   "id": "8560a222",
   "metadata": {},
   "outputs": [
    {
     "data": {
      "text/plain": [
       "count      825\n",
       "unique       1\n",
       "top       both\n",
       "freq       825\n",
       "Name: _merge, dtype: object"
      ]
     },
     "execution_count": 18,
     "metadata": {},
     "output_type": "execute_result"
    }
   ],
   "source": [
    "erp_liai_test1['_merge'].describe()"
   ]
  },
  {
   "cell_type": "code",
   "execution_count": 19,
   "id": "83665683",
   "metadata": {},
   "outputs": [
    {
     "data": {
      "text/plain": [
       "count      825\n",
       "unique       1\n",
       "top       both\n",
       "freq       825\n",
       "Name: _merge, dtype: object"
      ]
     },
     "execution_count": 19,
     "metadata": {},
     "output_type": "execute_result"
    }
   ],
   "source": [
    "# Test d'un merge left des data frames erp et liaison\n",
    "erp_liai_test2 = pd.merge(erp, liaison, on='product_id',how='left',indicator=True)\n",
    "erp_liai_test2['_merge'].describe()"
   ]
  },
  {
   "cell_type": "markdown",
   "id": "28c4d32d",
   "metadata": {},
   "source": [
    "Nous remarquons ici, que peut importe qu'elle jointure nous utilisons, nous trouvons la même concordance "
   ]
  },
  {
   "cell_type": "code",
   "execution_count": 20,
   "id": "ccf192a0",
   "metadata": {},
   "outputs": [
    {
     "data": {
      "text/html": [
       "<div>\n",
       "<style scoped>\n",
       "    .dataframe tbody tr th:only-of-type {\n",
       "        vertical-align: middle;\n",
       "    }\n",
       "\n",
       "    .dataframe tbody tr th {\n",
       "        vertical-align: top;\n",
       "    }\n",
       "\n",
       "    .dataframe thead th {\n",
       "        text-align: right;\n",
       "    }\n",
       "</style>\n",
       "<table border=\"1\" class=\"dataframe\">\n",
       "  <thead>\n",
       "    <tr style=\"text-align: right;\">\n",
       "      <th></th>\n",
       "      <th>product_id</th>\n",
       "      <th>onsale_web</th>\n",
       "      <th>price</th>\n",
       "      <th>stock_quantity</th>\n",
       "      <th>stock_status</th>\n",
       "      <th>id_web</th>\n",
       "    </tr>\n",
       "  </thead>\n",
       "  <tbody>\n",
       "    <tr>\n",
       "      <th>0</th>\n",
       "      <td>3847</td>\n",
       "      <td>1</td>\n",
       "      <td>24.2</td>\n",
       "      <td>0</td>\n",
       "      <td>outofstock</td>\n",
       "      <td>15298</td>\n",
       "    </tr>\n",
       "    <tr>\n",
       "      <th>1</th>\n",
       "      <td>3849</td>\n",
       "      <td>1</td>\n",
       "      <td>34.3</td>\n",
       "      <td>0</td>\n",
       "      <td>outofstock</td>\n",
       "      <td>15296</td>\n",
       "    </tr>\n",
       "    <tr>\n",
       "      <th>2</th>\n",
       "      <td>3850</td>\n",
       "      <td>1</td>\n",
       "      <td>20.8</td>\n",
       "      <td>0</td>\n",
       "      <td>outofstock</td>\n",
       "      <td>15300</td>\n",
       "    </tr>\n",
       "    <tr>\n",
       "      <th>3</th>\n",
       "      <td>4032</td>\n",
       "      <td>1</td>\n",
       "      <td>14.1</td>\n",
       "      <td>0</td>\n",
       "      <td>outofstock</td>\n",
       "      <td>19814</td>\n",
       "    </tr>\n",
       "    <tr>\n",
       "      <th>4</th>\n",
       "      <td>4039</td>\n",
       "      <td>1</td>\n",
       "      <td>46.0</td>\n",
       "      <td>0</td>\n",
       "      <td>outofstock</td>\n",
       "      <td>19815</td>\n",
       "    </tr>\n",
       "    <tr>\n",
       "      <th>...</th>\n",
       "      <td>...</td>\n",
       "      <td>...</td>\n",
       "      <td>...</td>\n",
       "      <td>...</td>\n",
       "      <td>...</td>\n",
       "      <td>...</td>\n",
       "    </tr>\n",
       "    <tr>\n",
       "      <th>820</th>\n",
       "      <td>7203</td>\n",
       "      <td>0</td>\n",
       "      <td>45.0</td>\n",
       "      <td>30</td>\n",
       "      <td>instock</td>\n",
       "      <td>NaN</td>\n",
       "    </tr>\n",
       "    <tr>\n",
       "      <th>821</th>\n",
       "      <td>7204</td>\n",
       "      <td>0</td>\n",
       "      <td>45.0</td>\n",
       "      <td>9</td>\n",
       "      <td>instock</td>\n",
       "      <td>NaN</td>\n",
       "    </tr>\n",
       "    <tr>\n",
       "      <th>822</th>\n",
       "      <td>7247</td>\n",
       "      <td>1</td>\n",
       "      <td>54.8</td>\n",
       "      <td>23</td>\n",
       "      <td>instock</td>\n",
       "      <td>13127-1</td>\n",
       "    </tr>\n",
       "    <tr>\n",
       "      <th>823</th>\n",
       "      <td>7329</td>\n",
       "      <td>0</td>\n",
       "      <td>26.5</td>\n",
       "      <td>14</td>\n",
       "      <td>instock</td>\n",
       "      <td>14680-1</td>\n",
       "    </tr>\n",
       "    <tr>\n",
       "      <th>824</th>\n",
       "      <td>7338</td>\n",
       "      <td>1</td>\n",
       "      <td>16.3</td>\n",
       "      <td>45</td>\n",
       "      <td>instock</td>\n",
       "      <td>16230</td>\n",
       "    </tr>\n",
       "  </tbody>\n",
       "</table>\n",
       "<p>825 rows × 6 columns</p>\n",
       "</div>"
      ],
      "text/plain": [
       "     product_id  onsale_web  price  stock_quantity stock_status   id_web\n",
       "0          3847           1   24.2               0   outofstock    15298\n",
       "1          3849           1   34.3               0   outofstock    15296\n",
       "2          3850           1   20.8               0   outofstock    15300\n",
       "3          4032           1   14.1               0   outofstock    19814\n",
       "4          4039           1   46.0               0   outofstock    19815\n",
       "..          ...         ...    ...             ...          ...      ...\n",
       "820        7203           0   45.0              30      instock      NaN\n",
       "821        7204           0   45.0               9      instock      NaN\n",
       "822        7247           1   54.8              23      instock  13127-1\n",
       "823        7329           0   26.5              14      instock  14680-1\n",
       "824        7338           1   16.3              45      instock    16230\n",
       "\n",
       "[825 rows x 6 columns]"
      ]
     },
     "execution_count": 20,
     "metadata": {},
     "output_type": "execute_result"
    }
   ],
   "source": [
    "# Supression de la colonne _merge qui nous permettais de faire le test\n",
    "erp_liaison = erp_liai_test1.drop(['_merge'],axis = 1)\n",
    "erp_liaison"
   ]
  },
  {
   "cell_type": "code",
   "execution_count": 21,
   "id": "91949e56",
   "metadata": {},
   "outputs": [
    {
     "data": {
      "text/plain": [
       "(825, 6)"
      ]
     },
     "execution_count": 21,
     "metadata": {},
     "output_type": "execute_result"
    }
   ],
   "source": [
    "erp_liaison.shape"
   ]
  },
  {
   "cell_type": "code",
   "execution_count": 22,
   "id": "72ecaa18",
   "metadata": {},
   "outputs": [
    {
     "data": {
      "text/plain": [
       "(714, 23)"
      ]
     },
     "execution_count": 22,
     "metadata": {},
     "output_type": "execute_result"
    }
   ],
   "source": [
    "web_prod.shape"
   ]
  },
  {
   "cell_type": "markdown",
   "id": "78c2b5cb",
   "metadata": {},
   "source": [
    "Nous allons maintenant faire un merge entre les dataframes web_prod et erp_liaison. \n",
    "\n",
    "A l'aide des .shapes ci dessus, on remarque la presence d'une difference de 91 lignes, soit le nombre de ligne avec des valeurs manquante que nous avons stocker precédemment dans une variable.\n",
    "\n",
    "N'ayant pas plus d'information, j'estime que ces données ne sont pas nécéssaires pour poursuivre le reste du rapprochement donc je decide de les exclure en faisant un merge inner afin de garder uniquement les lignes pour lesquels id_web est present a la fois dans le dataframe erp_liaison et web_prod"
   ]
  },
  {
   "cell_type": "code",
   "execution_count": 23,
   "id": "1aa234fb",
   "metadata": {},
   "outputs": [
    {
     "data": {
      "text/plain": [
       "(714, 28)"
      ]
     },
     "execution_count": 23,
     "metadata": {},
     "output_type": "execute_result"
    }
   ],
   "source": [
    "# Merge Inner des data frames erp_liaison et web_prod\n",
    "df1 = pd.merge(web_prod, erp_liaison , on='id_web',how='inner')\n",
    "df1.shape"
   ]
  },
  {
   "cell_type": "markdown",
   "id": "42563465",
   "metadata": {},
   "source": [
    "### 3 - Etude du chiffre d'affaires"
   ]
  },
  {
   "cell_type": "code",
   "execution_count": 24,
   "id": "d8d39ed9",
   "metadata": {},
   "outputs": [
    {
     "data": {
      "text/html": [
       "<div>\n",
       "<style scoped>\n",
       "    .dataframe tbody tr th:only-of-type {\n",
       "        vertical-align: middle;\n",
       "    }\n",
       "\n",
       "    .dataframe tbody tr th {\n",
       "        vertical-align: top;\n",
       "    }\n",
       "\n",
       "    .dataframe thead th {\n",
       "        text-align: right;\n",
       "    }\n",
       "</style>\n",
       "<table border=\"1\" class=\"dataframe\">\n",
       "  <thead>\n",
       "    <tr style=\"text-align: right;\">\n",
       "      <th></th>\n",
       "      <th>id_web</th>\n",
       "      <th>product_id</th>\n",
       "      <th>total_sales</th>\n",
       "      <th>price</th>\n",
       "    </tr>\n",
       "  </thead>\n",
       "  <tbody>\n",
       "    <tr>\n",
       "      <th>0</th>\n",
       "      <td>bon-cadeau-25-euros</td>\n",
       "      <td>4954</td>\n",
       "      <td>10.0</td>\n",
       "      <td>25.0</td>\n",
       "    </tr>\n",
       "    <tr>\n",
       "      <th>1</th>\n",
       "      <td>15298</td>\n",
       "      <td>3847</td>\n",
       "      <td>6.0</td>\n",
       "      <td>24.2</td>\n",
       "    </tr>\n",
       "    <tr>\n",
       "      <th>2</th>\n",
       "      <td>15296</td>\n",
       "      <td>3849</td>\n",
       "      <td>0.0</td>\n",
       "      <td>34.3</td>\n",
       "    </tr>\n",
       "    <tr>\n",
       "      <th>3</th>\n",
       "      <td>15300</td>\n",
       "      <td>3850</td>\n",
       "      <td>0.0</td>\n",
       "      <td>20.8</td>\n",
       "    </tr>\n",
       "    <tr>\n",
       "      <th>4</th>\n",
       "      <td>19814</td>\n",
       "      <td>4032</td>\n",
       "      <td>3.0</td>\n",
       "      <td>14.1</td>\n",
       "    </tr>\n",
       "    <tr>\n",
       "      <th>...</th>\n",
       "      <td>...</td>\n",
       "      <td>...</td>\n",
       "      <td>...</td>\n",
       "      <td>...</td>\n",
       "    </tr>\n",
       "    <tr>\n",
       "      <th>709</th>\n",
       "      <td>16135</td>\n",
       "      <td>6930</td>\n",
       "      <td>5.0</td>\n",
       "      <td>8.4</td>\n",
       "    </tr>\n",
       "    <tr>\n",
       "      <th>710</th>\n",
       "      <td>15891</td>\n",
       "      <td>7023</td>\n",
       "      <td>0.0</td>\n",
       "      <td>27.5</td>\n",
       "    </tr>\n",
       "    <tr>\n",
       "      <th>711</th>\n",
       "      <td>15887</td>\n",
       "      <td>7025</td>\n",
       "      <td>0.0</td>\n",
       "      <td>69.0</td>\n",
       "    </tr>\n",
       "    <tr>\n",
       "      <th>712</th>\n",
       "      <td>13127-1</td>\n",
       "      <td>7247</td>\n",
       "      <td>0.0</td>\n",
       "      <td>54.8</td>\n",
       "    </tr>\n",
       "    <tr>\n",
       "      <th>713</th>\n",
       "      <td>16230</td>\n",
       "      <td>7338</td>\n",
       "      <td>0.0</td>\n",
       "      <td>16.3</td>\n",
       "    </tr>\n",
       "  </tbody>\n",
       "</table>\n",
       "<p>714 rows × 4 columns</p>\n",
       "</div>"
      ],
      "text/plain": [
       "                  id_web  product_id  total_sales  price\n",
       "0    bon-cadeau-25-euros        4954         10.0   25.0\n",
       "1                  15298        3847          6.0   24.2\n",
       "2                  15296        3849          0.0   34.3\n",
       "3                  15300        3850          0.0   20.8\n",
       "4                  19814        4032          3.0   14.1\n",
       "..                   ...         ...          ...    ...\n",
       "709                16135        6930          5.0    8.4\n",
       "710                15891        7023          0.0   27.5\n",
       "711                15887        7025          0.0   69.0\n",
       "712              13127-1        7247          0.0   54.8\n",
       "713                16230        7338          0.0   16.3\n",
       "\n",
       "[714 rows x 4 columns]"
      ]
     },
     "execution_count": 24,
     "metadata": {},
     "output_type": "execute_result"
    }
   ],
   "source": [
    "# Visualisation des colonnes utilise a notre analyse\n",
    "df1[['id_web','product_id','total_sales','price']]"
   ]
  },
  {
   "cell_type": "code",
   "execution_count": 25,
   "id": "08df90c1",
   "metadata": {},
   "outputs": [],
   "source": [
    "# Calcul du chiffre d'affaire par produit\n",
    "CA_par_produit = df1['total_sales'] * df1['price']"
   ]
  },
  {
   "cell_type": "code",
   "execution_count": 26,
   "id": "9507d966",
   "metadata": {},
   "outputs": [
    {
     "data": {
      "text/html": [
       "<div>\n",
       "<style scoped>\n",
       "    .dataframe tbody tr th:only-of-type {\n",
       "        vertical-align: middle;\n",
       "    }\n",
       "\n",
       "    .dataframe tbody tr th {\n",
       "        vertical-align: top;\n",
       "    }\n",
       "\n",
       "    .dataframe thead th {\n",
       "        text-align: right;\n",
       "    }\n",
       "</style>\n",
       "<table border=\"1\" class=\"dataframe\">\n",
       "  <thead>\n",
       "    <tr style=\"text-align: right;\">\n",
       "      <th></th>\n",
       "      <th>id_web</th>\n",
       "      <th>product_id</th>\n",
       "      <th>total_sales</th>\n",
       "      <th>price</th>\n",
       "      <th>chiffre affaire par produit</th>\n",
       "    </tr>\n",
       "  </thead>\n",
       "  <tbody>\n",
       "    <tr>\n",
       "      <th>0</th>\n",
       "      <td>bon-cadeau-25-euros</td>\n",
       "      <td>4954</td>\n",
       "      <td>10.0</td>\n",
       "      <td>25.0</td>\n",
       "      <td>250.0</td>\n",
       "    </tr>\n",
       "    <tr>\n",
       "      <th>1</th>\n",
       "      <td>15298</td>\n",
       "      <td>3847</td>\n",
       "      <td>6.0</td>\n",
       "      <td>24.2</td>\n",
       "      <td>145.2</td>\n",
       "    </tr>\n",
       "    <tr>\n",
       "      <th>2</th>\n",
       "      <td>15296</td>\n",
       "      <td>3849</td>\n",
       "      <td>0.0</td>\n",
       "      <td>34.3</td>\n",
       "      <td>0.0</td>\n",
       "    </tr>\n",
       "    <tr>\n",
       "      <th>3</th>\n",
       "      <td>15300</td>\n",
       "      <td>3850</td>\n",
       "      <td>0.0</td>\n",
       "      <td>20.8</td>\n",
       "      <td>0.0</td>\n",
       "    </tr>\n",
       "    <tr>\n",
       "      <th>4</th>\n",
       "      <td>19814</td>\n",
       "      <td>4032</td>\n",
       "      <td>3.0</td>\n",
       "      <td>14.1</td>\n",
       "      <td>42.3</td>\n",
       "    </tr>\n",
       "    <tr>\n",
       "      <th>...</th>\n",
       "      <td>...</td>\n",
       "      <td>...</td>\n",
       "      <td>...</td>\n",
       "      <td>...</td>\n",
       "      <td>...</td>\n",
       "    </tr>\n",
       "    <tr>\n",
       "      <th>709</th>\n",
       "      <td>16135</td>\n",
       "      <td>6930</td>\n",
       "      <td>5.0</td>\n",
       "      <td>8.4</td>\n",
       "      <td>42.0</td>\n",
       "    </tr>\n",
       "    <tr>\n",
       "      <th>710</th>\n",
       "      <td>15891</td>\n",
       "      <td>7023</td>\n",
       "      <td>0.0</td>\n",
       "      <td>27.5</td>\n",
       "      <td>0.0</td>\n",
       "    </tr>\n",
       "    <tr>\n",
       "      <th>711</th>\n",
       "      <td>15887</td>\n",
       "      <td>7025</td>\n",
       "      <td>0.0</td>\n",
       "      <td>69.0</td>\n",
       "      <td>0.0</td>\n",
       "    </tr>\n",
       "    <tr>\n",
       "      <th>712</th>\n",
       "      <td>13127-1</td>\n",
       "      <td>7247</td>\n",
       "      <td>0.0</td>\n",
       "      <td>54.8</td>\n",
       "      <td>0.0</td>\n",
       "    </tr>\n",
       "    <tr>\n",
       "      <th>713</th>\n",
       "      <td>16230</td>\n",
       "      <td>7338</td>\n",
       "      <td>0.0</td>\n",
       "      <td>16.3</td>\n",
       "      <td>0.0</td>\n",
       "    </tr>\n",
       "  </tbody>\n",
       "</table>\n",
       "<p>714 rows × 5 columns</p>\n",
       "</div>"
      ],
      "text/plain": [
       "                  id_web  product_id  total_sales  price  \\\n",
       "0    bon-cadeau-25-euros        4954         10.0   25.0   \n",
       "1                  15298        3847          6.0   24.2   \n",
       "2                  15296        3849          0.0   34.3   \n",
       "3                  15300        3850          0.0   20.8   \n",
       "4                  19814        4032          3.0   14.1   \n",
       "..                   ...         ...          ...    ...   \n",
       "709                16135        6930          5.0    8.4   \n",
       "710                15891        7023          0.0   27.5   \n",
       "711                15887        7025          0.0   69.0   \n",
       "712              13127-1        7247          0.0   54.8   \n",
       "713                16230        7338          0.0   16.3   \n",
       "\n",
       "     chiffre affaire par produit  \n",
       "0                          250.0  \n",
       "1                          145.2  \n",
       "2                            0.0  \n",
       "3                            0.0  \n",
       "4                           42.3  \n",
       "..                           ...  \n",
       "709                         42.0  \n",
       "710                          0.0  \n",
       "711                          0.0  \n",
       "712                          0.0  \n",
       "713                          0.0  \n",
       "\n",
       "[714 rows x 5 columns]"
      ]
     },
     "execution_count": 26,
     "metadata": {},
     "output_type": "execute_result"
    }
   ],
   "source": [
    "# Ajout d'une colonne chiffre affaire par produit dans df1\n",
    "df1['chiffre affaire par produit'] = CA_par_produit\n",
    "df1[['id_web','product_id','total_sales','price','chiffre affaire par produit']]"
   ]
  },
  {
   "cell_type": "code",
   "execution_count": 27,
   "id": "fbce3706",
   "metadata": {},
   "outputs": [
    {
     "name": "stdout",
     "output_type": "stream",
     "text": [
      "Le chiffre daffaire total réalisé en ligne est de 70568.6 €\n"
     ]
    }
   ],
   "source": [
    "# Calcul du chiffre d'affaire total \n",
    "CA_total = df1['chiffre affaire par produit'].sum()\n",
    "print('Le chiffre daffaire total réalisé en ligne est de ' + str(CA_total) + ' €')"
   ]
  },
  {
   "cell_type": "markdown",
   "id": "5a961efe",
   "metadata": {},
   "source": [
    "### 4 - Detection des valeurs abérrantes (outliers)"
   ]
  },
  {
   "cell_type": "code",
   "execution_count": 28,
   "id": "3cde01dc",
   "metadata": {},
   "outputs": [
    {
     "data": {
      "text/plain": [
       "28.050000000000004"
      ]
     },
     "execution_count": 28,
     "metadata": {},
     "output_type": "execute_result"
    }
   ],
   "source": [
    "# IQR\n",
    "Q1 = np.percentile(df1['price'], 25,\n",
    "                   interpolation = 'midpoint')\n",
    " \n",
    "Q3 = np.percentile(df1['price'], 75,\n",
    "                   interpolation = 'midpoint')\n",
    "IQR = Q3 - Q1\n",
    "IQR"
   ]
  },
  {
   "cell_type": "code",
   "execution_count": 29,
   "id": "da2925c6",
   "metadata": {},
   "outputs": [
    {
     "name": "stdout",
     "output_type": "stream",
     "text": [
      "84.22500000000001\n",
      "[ 64  66 200 202 206 219 220 222 223 228 381 382 426 431 432 437 438 502\n",
      " 511 553 587 602 603 604 642 647 648 653 654 655 656 657]\n"
     ]
    }
   ],
   "source": [
    "# Position des Outliers\n",
    "Max = Q3 + 1.5 * IQR\n",
    "print(Max)\n",
    "valeur_abérante = np.where(df1['price']>= Max )\n",
    "print(valeur_abérante[0])"
   ]
  },
  {
   "cell_type": "code",
   "execution_count": 30,
   "id": "c1e28098",
   "metadata": {
    "scrolled": false
   },
   "outputs": [
    {
     "data": {
      "image/png": "[encoded data removed]",
      "text/plain": [
       "<Figure size 720x504 with 1 Axes>"
      ]
     },
     "metadata": {
      "needs_background": "light"
     },
     "output_type": "display_data"
    }
   ],
   "source": [
    "# Boxplot\n",
    "plt.figure(figsize=(10,7))\n",
    "sns.boxplot(x= df1['price'])\n",
    "plt.xlabel('Prix', fontsize=15)\n",
    "plt.title(\"Representation graphique des outliers \" , fontsize=16,\n",
    "          fontdict={'family':'serif','color' : 'darkblue','weight' : 'bold', 'size' : 30})\n",
    "plt.show()"
   ]
  },
  {
   "cell_type": "code",
   "execution_count": 31,
   "id": "93c2605e",
   "metadata": {},
   "outputs": [
    {
     "data": {
      "image/png": "[encoded data removed]",
      "text/plain": [
       "<Figure size 720x360 with 1 Axes>"
      ]
     },
     "metadata": {
      "needs_background": "light"
     },
     "output_type": "display_data"
    }
   ],
   "source": [
    "# Scatter plot\n",
    "fig, ax = plt.subplots(figsize = (10,5))\n",
    "ax.scatter(df1['price'], df1['total_sales'])\n",
    "plt.title(\"Détection des outliers à l'aide d'un scaterplot (nuage de points) \" , fontsize=16,\n",
    "          fontdict={'family':'serif','color' : 'darkblue','weight' : 'bold', 'size' : 30}) \n",
    "ax.set_xlabel('Prix', fontsize=15)\n",
    "ax.set_ylabel('Quantité vendus', fontsize=15)\n",
    "plt.show()"
   ]
  },
  {
   "cell_type": "code",
   "execution_count": 32,
   "id": "5c2c4095",
   "metadata": {},
   "outputs": [
    {
     "name": "stdout",
     "output_type": "stream",
     "text": [
      "(array([ 64,  66, 197, 200, 202, 206, 219, 220, 222, 223, 228, 381, 382,\n",
      "       426, 431, 432, 437, 438, 502, 506, 511, 553, 587, 602, 603, 604,\n",
      "       642, 647, 648, 653, 654, 655, 656, 657], dtype=int64),)\n"
     ]
    }
   ],
   "source": [
    "print(np.where((df1['price']>80)))\n"
   ]
  },
  {
   "cell_type": "code",
   "execution_count": 33,
   "id": "6b2c79b7",
   "metadata": {},
   "outputs": [
    {
     "name": "stdout",
     "output_type": "stream",
     "text": [
      "0      0.269624\n",
      "1      0.298410\n",
      "2      0.065016\n",
      "3      0.420752\n",
      "4      0.661837\n",
      "         ...   \n",
      "709    0.866939\n",
      "710    0.179667\n",
      "711    1.313620\n",
      "712    0.802664\n",
      "713    0.582675\n",
      "Name: price, Length: 714, dtype: float64\n"
     ]
    }
   ],
   "source": [
    "# Zscore : \n",
    "z = np.abs(stats.zscore(df1['price']))\n",
    "print(z)"
   ]
  },
  {
   "cell_type": "code",
   "execution_count": 34,
   "id": "fc0b74d7",
   "metadata": {},
   "outputs": [
    {
     "name": "stdout",
     "output_type": "stream",
     "text": [
      "(array([ 64,  66, 200, 202, 219, 220, 222, 223, 228, 381, 382, 426, 431,\n",
      "       432, 437, 502, 511, 553, 587, 602, 603, 604, 642, 647, 648, 653,\n",
      "       654, 655, 656, 657], dtype=int64),)\n"
     ]
    }
   ],
   "source": [
    "#  Position des Outliers\n",
    "print(np.where(z > 2))"
   ]
  },
  {
   "cell_type": "markdown",
   "id": "38692285",
   "metadata": {},
   "source": [
    "Généralement une valeur abérrante est une erreur liée a une possible erreur de frappe de l'homme ou de comprehension d'un quelconque transfère entre plusieurs logiciels. \n",
    "\n",
    "Pour notre cas, on remarque la présence de valeur abérrantes uniquement car il y a des livres qui sont beaucoup plus chère que d'autre. En soit ces valeurs ne peuvent pas etre considéré comme des outliers. "
   ]
  },
  {
   "cell_type": "code",
   "execution_count": null,
   "id": "40ddbdfd",
   "metadata": {},
   "outputs": [],
   "source": []
  }
 ],
 "metadata": {
  "kernelspec": {
   "display_name": "Python 3 (ipykernel)",
   "language": "python",
   "name": "python3"
  },
  "language_info": {
   "codemirror_mode": {
    "name": "ipython",
    "version": 3
   },
   "file_extension": ".py",
   "mimetype": "text/x-python",
   "name": "python",
   "nbconvert_exporter": "python",
   "pygments_lexer": "ipython3",
   "version": "3.9.7"
  }
 },
 "nbformat": 4,
 "nbformat_minor": 5
}
