{
 "cells": [
  {
   "cell_type": "markdown",
   "id": "510f8fe2",
   "metadata": {},
   "source": [
    "##                                  Importation des librairies et des fichiers csv"
   ]
  },
  {
   "cell_type": "code",
   "execution_count": 1,
   "id": "a08e3649",
   "metadata": {},
   "outputs": [],
   "source": [
    "import pandas as pd\n",
    "import numpy as np\n",
    "import matplotlib.pyplot as plt\n",
    "import seaborn as sns\n",
    "dispo_alim = pd.read_csv(\"dispo_alimentaire.csv\")\n",
    "sous_nutri = pd.read_csv(\"sous_nutrition.csv\")\n",
    "popula = pd.read_csv(\"population.csv\")\n",
    "aide_alim = pd.read_csv(\"aide_alimentaire.csv\")"
   ]
  },
  {
   "cell_type": "markdown",
   "id": "9b447364",
   "metadata": {},
   "source": [
    "## Trie des données des fichiers csv"
   ]
  },
  {
   "cell_type": "markdown",
   "id": "167fbf2a",
   "metadata": {},
   "source": [
    "#### Pour eviter toutes erreurs futur, il est nécessaire de bien trier et modifier les donnés des dataframes.\n",
    "Cela consiste, à :\n",
    "-  Remplacer certains caractère speciaux (comme les -,^,¨,& ...etc) ou des accentuations (é,è ...etc) (.str.replace())\n",
    "-  Remplacer toutes les majuscules du jeu de donnée par des minuscules, (.str.lower())\n",
    "-  Renommer certaines colonnes (.columns.str.replace())\n",
    "-  Convertir certaines lignes d'un jeu de donnée à une unité precise,\n",
    "-  Verifier le types de donnée des colonnes de chaque dataframes et changer leur nature si cela doit etre fait.(.dtypes)\n",
    "-  Verifier la présence de valeurs manquantes ou de doublons avec isna().mean() ou duplicated().mean() et les traiter avec .fillna() \n",
    "-  Modifier certaines données pour qu'elle soit identique dans tout les autres jeu de donnée au cas où nous utiliserons pour faire une jointure\n",
    "-  Verifier si chaque dataframes presente des valeurs manquantes, et les traiter si nécessaire.\n",
    "        C'est en effet ce que je fait pour l'ensemble des dataframes sur lequels nous travaillons."
   ]
  },
  {
   "cell_type": "code",
   "execution_count": 2,
   "id": "68225e5e",
   "metadata": {},
   "outputs": [
    {
     "data": {
      "text/html": [
       "<div>\n",
       "<style scoped>\n",
       "    .dataframe tbody tr th:only-of-type {\n",
       "        vertical-align: middle;\n",
       "    }\n",
       "\n",
       "    .dataframe tbody tr th {\n",
       "        vertical-align: top;\n",
       "    }\n",
       "\n",
       "    .dataframe thead th {\n",
       "        text-align: right;\n",
       "    }\n",
       "</style>\n",
       "<table border=\"1\" class=\"dataframe\">\n",
       "  <thead>\n",
       "    <tr style=\"text-align: right;\">\n",
       "      <th></th>\n",
       "      <th>Zone</th>\n",
       "      <th>Produit</th>\n",
       "      <th>Origine</th>\n",
       "      <th>Aliments pour animaux</th>\n",
       "      <th>Autres Utilisations</th>\n",
       "      <th>Disponibilité alimentaire (Kcal/personne/jour)</th>\n",
       "      <th>Disponibilité alimentaire en quantité (kg/personne/an)</th>\n",
       "      <th>Disponibilité de matière grasse en quantité (g/personne/jour)</th>\n",
       "      <th>Disponibilité de protéines en quantité (g/personne/jour)</th>\n",
       "      <th>Disponibilité intérieure</th>\n",
       "      <th>Exportations - Quantité</th>\n",
       "      <th>Importations - Quantité</th>\n",
       "      <th>Nourriture</th>\n",
       "      <th>Pertes</th>\n",
       "      <th>Production</th>\n",
       "      <th>Semences</th>\n",
       "      <th>Traitement</th>\n",
       "      <th>Variation de stock</th>\n",
       "    </tr>\n",
       "  </thead>\n",
       "  <tbody>\n",
       "    <tr>\n",
       "      <th>0</th>\n",
       "      <td>Afghanistan</td>\n",
       "      <td>Abats Comestible</td>\n",
       "      <td>animale</td>\n",
       "      <td>NaN</td>\n",
       "      <td>NaN</td>\n",
       "      <td>5.0</td>\n",
       "      <td>1.72</td>\n",
       "      <td>0.20</td>\n",
       "      <td>0.77</td>\n",
       "      <td>53.0</td>\n",
       "      <td>NaN</td>\n",
       "      <td>NaN</td>\n",
       "      <td>53.0</td>\n",
       "      <td>NaN</td>\n",
       "      <td>53.0</td>\n",
       "      <td>NaN</td>\n",
       "      <td>NaN</td>\n",
       "      <td>NaN</td>\n",
       "    </tr>\n",
       "    <tr>\n",
       "      <th>1</th>\n",
       "      <td>Afghanistan</td>\n",
       "      <td>Agrumes, Autres</td>\n",
       "      <td>vegetale</td>\n",
       "      <td>NaN</td>\n",
       "      <td>NaN</td>\n",
       "      <td>1.0</td>\n",
       "      <td>1.29</td>\n",
       "      <td>0.01</td>\n",
       "      <td>0.02</td>\n",
       "      <td>41.0</td>\n",
       "      <td>2.0</td>\n",
       "      <td>40.0</td>\n",
       "      <td>39.0</td>\n",
       "      <td>2.0</td>\n",
       "      <td>3.0</td>\n",
       "      <td>NaN</td>\n",
       "      <td>NaN</td>\n",
       "      <td>NaN</td>\n",
       "    </tr>\n",
       "    <tr>\n",
       "      <th>2</th>\n",
       "      <td>Afghanistan</td>\n",
       "      <td>Aliments pour enfants</td>\n",
       "      <td>vegetale</td>\n",
       "      <td>NaN</td>\n",
       "      <td>NaN</td>\n",
       "      <td>1.0</td>\n",
       "      <td>0.06</td>\n",
       "      <td>0.01</td>\n",
       "      <td>0.03</td>\n",
       "      <td>2.0</td>\n",
       "      <td>NaN</td>\n",
       "      <td>2.0</td>\n",
       "      <td>2.0</td>\n",
       "      <td>NaN</td>\n",
       "      <td>NaN</td>\n",
       "      <td>NaN</td>\n",
       "      <td>NaN</td>\n",
       "      <td>NaN</td>\n",
       "    </tr>\n",
       "    <tr>\n",
       "      <th>3</th>\n",
       "      <td>Afghanistan</td>\n",
       "      <td>Ananas</td>\n",
       "      <td>vegetale</td>\n",
       "      <td>NaN</td>\n",
       "      <td>NaN</td>\n",
       "      <td>0.0</td>\n",
       "      <td>0.00</td>\n",
       "      <td>NaN</td>\n",
       "      <td>NaN</td>\n",
       "      <td>0.0</td>\n",
       "      <td>NaN</td>\n",
       "      <td>0.0</td>\n",
       "      <td>0.0</td>\n",
       "      <td>NaN</td>\n",
       "      <td>NaN</td>\n",
       "      <td>NaN</td>\n",
       "      <td>NaN</td>\n",
       "      <td>NaN</td>\n",
       "    </tr>\n",
       "    <tr>\n",
       "      <th>4</th>\n",
       "      <td>Afghanistan</td>\n",
       "      <td>Bananes</td>\n",
       "      <td>vegetale</td>\n",
       "      <td>NaN</td>\n",
       "      <td>NaN</td>\n",
       "      <td>4.0</td>\n",
       "      <td>2.70</td>\n",
       "      <td>0.02</td>\n",
       "      <td>0.05</td>\n",
       "      <td>82.0</td>\n",
       "      <td>NaN</td>\n",
       "      <td>82.0</td>\n",
       "      <td>82.0</td>\n",
       "      <td>NaN</td>\n",
       "      <td>NaN</td>\n",
       "      <td>NaN</td>\n",
       "      <td>NaN</td>\n",
       "      <td>NaN</td>\n",
       "    </tr>\n",
       "  </tbody>\n",
       "</table>\n",
       "</div>"
      ],
      "text/plain": [
       "          Zone                Produit   Origine  Aliments pour animaux  \\\n",
       "0  Afghanistan       Abats Comestible   animale                    NaN   \n",
       "1  Afghanistan        Agrumes, Autres  vegetale                    NaN   \n",
       "2  Afghanistan  Aliments pour enfants  vegetale                    NaN   \n",
       "3  Afghanistan                 Ananas  vegetale                    NaN   \n",
       "4  Afghanistan                Bananes  vegetale                    NaN   \n",
       "\n",
       "   Autres Utilisations  Disponibilité alimentaire (Kcal/personne/jour)  \\\n",
       "0                  NaN                                             5.0   \n",
       "1                  NaN                                             1.0   \n",
       "2                  NaN                                             1.0   \n",
       "3                  NaN                                             0.0   \n",
       "4                  NaN                                             4.0   \n",
       "\n",
       "   Disponibilité alimentaire en quantité (kg/personne/an)  \\\n",
       "0                                               1.72        \n",
       "1                                               1.29        \n",
       "2                                               0.06        \n",
       "3                                               0.00        \n",
       "4                                               2.70        \n",
       "\n",
       "   Disponibilité de matière grasse en quantité (g/personne/jour)  \\\n",
       "0                                               0.20               \n",
       "1                                               0.01               \n",
       "2                                               0.01               \n",
       "3                                                NaN               \n",
       "4                                               0.02               \n",
       "\n",
       "   Disponibilité de protéines en quantité (g/personne/jour)  \\\n",
       "0                                               0.77          \n",
       "1                                               0.02          \n",
       "2                                               0.03          \n",
       "3                                                NaN          \n",
       "4                                               0.05          \n",
       "\n",
       "   Disponibilité intérieure  Exportations - Quantité  Importations - Quantité  \\\n",
       "0                      53.0                      NaN                      NaN   \n",
       "1                      41.0                      2.0                     40.0   \n",
       "2                       2.0                      NaN                      2.0   \n",
       "3                       0.0                      NaN                      0.0   \n",
       "4                      82.0                      NaN                     82.0   \n",
       "\n",
       "   Nourriture  Pertes  Production  Semences  Traitement  Variation de stock  \n",
       "0        53.0     NaN        53.0       NaN         NaN                 NaN  \n",
       "1        39.0     2.0         3.0       NaN         NaN                 NaN  \n",
       "2         2.0     NaN         NaN       NaN         NaN                 NaN  \n",
       "3         0.0     NaN         NaN       NaN         NaN                 NaN  \n",
       "4        82.0     NaN         NaN       NaN         NaN                 NaN  "
      ]
     },
     "execution_count": 2,
     "metadata": {},
     "output_type": "execute_result"
    }
   ],
   "source": [
    "dispo_alim.head()"
   ]
  },
  {
   "cell_type": "code",
   "execution_count": 3,
   "id": "d5343dc3",
   "metadata": {},
   "outputs": [
    {
     "data": {
      "text/plain": [
       "Zone                                                              object\n",
       "Produit                                                           object\n",
       "Origine                                                           object\n",
       "Aliments pour animaux                                            float64\n",
       "Autres Utilisations                                              float64\n",
       "Disponibilité alimentaire (Kcal/personne/jour)                   float64\n",
       "Disponibilité alimentaire en quantité (kg/personne/an)           float64\n",
       "Disponibilité de matière grasse en quantité (g/personne/jour)    float64\n",
       "Disponibilité de protéines en quantité (g/personne/jour)         float64\n",
       "Disponibilité intérieure                                         float64\n",
       "Exportations - Quantité                                          float64\n",
       "Importations - Quantité                                          float64\n",
       "Nourriture                                                       float64\n",
       "Pertes                                                           float64\n",
       "Production                                                       float64\n",
       "Semences                                                         float64\n",
       "Traitement                                                       float64\n",
       "Variation de stock                                               float64\n",
       "dtype: object"
      ]
     },
     "execution_count": 3,
     "metadata": {},
     "output_type": "execute_result"
    }
   ],
   "source": [
    "dispo_alim.dtypes"
   ]
  },
  {
   "cell_type": "code",
   "execution_count": 4,
   "id": "e9e85abe",
   "metadata": {},
   "outputs": [
    {
     "data": {
      "text/plain": [
       "Zone                                                                 0\n",
       "Produit                                                              0\n",
       "Origine                                                              0\n",
       "Aliments pour animaux                                            12885\n",
       "Autres Utilisations                                              10109\n",
       "Disponibilité alimentaire (Kcal/personne/jour)                    1364\n",
       "Disponibilité alimentaire en quantité (kg/personne/an)            1590\n",
       "Disponibilité de matière grasse en quantité (g/personne/jour)     3811\n",
       "Disponibilité de protéines en quantité (g/personne/jour)          4044\n",
       "Disponibilité intérieure                                           223\n",
       "Exportations - Quantité                                           3379\n",
       "Importations - Quantité                                            753\n",
       "Nourriture                                                        1590\n",
       "Pertes                                                           11327\n",
       "Production                                                        6425\n",
       "Semences                                                         13514\n",
       "Traitement                                                       13313\n",
       "Variation de stock                                                8829\n",
       "dtype: int64"
      ]
     },
     "execution_count": 4,
     "metadata": {},
     "output_type": "execute_result"
    }
   ],
   "source": [
    "dispo_alim.isna().sum()"
   ]
  },
  {
   "cell_type": "markdown",
   "id": "d5e1f594",
   "metadata": {},
   "source": [
    "On remarque ici la presence de valeur manquantes. \n",
    "\n",
    "Vu le nombre de valeurs manquantes present sur notre dataframes, je prend la decision de changer les valeurs manquantes par des 0. \n",
    "\n",
    "Car si on vennais a supprimé les lignes où les valeurs manquantes sont presentes, il nous ne restera pas assez de donnée significative pour effectuer notre étude.\n",
    "\n",
    "Il est aussi possible d'imputé ces derniere par la moyenne, cela pourrait etre une bonne idée en verifiant bien que cela ne donne pas des données moins pertinentes.\n",
    "\n",
    "Nous remplacons donc les valeurs manquantes par des 0:"
   ]
  },
  {
   "cell_type": "code",
   "execution_count": 5,
   "id": "591e2747",
   "metadata": {
    "scrolled": true
   },
   "outputs": [],
   "source": [
    "dispo_alim.columns = dispo_alim.columns.str.lower()\n",
    "dispo_alim.columns = dispo_alim.columns.str.replace('é','e')\n",
    "dispo_alim.columns = dispo_alim.columns.str.replace('è','e')\n",
    "dispo_alim.columns = dispo_alim.columns.str.replace('-','_')\n",
    "dispo_alim.columns = dispo_alim.columns.str.replace('kcal','cal')\n",
    "dispo_alim.rename(columns={'zone' : 'pays'}, inplace=True)\n",
    "dispo_alim['pays'] = dispo_alim['pays'].replace(['tchequie (la)'],'tchequie')\n",
    "var_modif = [ 'produit', 'pays','origine']\n",
    "\n",
    "for var in var_modif:\n",
    "    dispo_alim[var] = dispo_alim[var].str.replace(\"é\",\"e\")\n",
    "    dispo_alim[var] = dispo_alim[var].str.lower()\n",
    "    dispo_alim[var] = dispo_alim[var].str.replace(\"è\",'e')\n",
    "    dispo_alim[var] = dispo_alim[var].str.replace(\"-\",'_')\n",
    "    dispo_alim[var] = dispo_alim[var].str.replace(\"&\",' et ')\n",
    "    dispo_alim[var] = dispo_alim[var].str.replace(\"'\",'_')\n",
    "    dispo_alim[var] = dispo_alim[var].str.replace(\"ï\",'i')\n",
    "    dispo_alim[var] = dispo_alim[var].str.replace(\"î\",'i')\n",
    "    dispo_alim[var] = dispo_alim[var].str.replace(\"ô\",'o')\n",
    "    dispo_alim[var] = dispo_alim[var].str.replace(\"/\",'_')\n",
    "    dispo_alim[var] = dispo_alim[var].str.replace(\"ë\",'e')\n",
    "\n",
    "dispo_alim.fillna(0, inplace=True)\n",
    "dispo_alim.isna().mean()\n",
    "\n",
    "var1 = ['aliments pour animaux','autres utilisations','disponibilite interieure','exportations _ quantite','importations _ quantite','nourriture','pertes','production','semences','traitement','variation de stock']\n",
    "\n",
    "for var in var1:\n",
    "    dispo_alim[var] = dispo_alim[var]*10**6"
   ]
  },
  {
   "cell_type": "code",
   "execution_count": 6,
   "id": "18cb360e",
   "metadata": {},
   "outputs": [],
   "source": [
    "sous_nutri.columns = sous_nutri.columns.str.lower()\n",
    "sous_nutri.columns = sous_nutri.columns.str.replace('é','e')\n",
    "sous_nutri.columns = sous_nutri.columns.str.replace('è','e')\n",
    "sous_nutri.columns = sous_nutri.columns.str.replace('-','_')\n",
    "sous_nutri.rename(columns={'zone' : 'pays'}, inplace=True)\n",
    "sous_nutri.rename(columns={'valeur' : 'nbr prsn en sous alim en millions'}, inplace=True)\n",
    "var_modif = [ 'pays']\n",
    "\n",
    "for var in var_modif:\n",
    "    sous_nutri[var] = sous_nutri[var].str.replace(\"é\",\"e\")\n",
    "    sous_nutri[var] = sous_nutri[var].str.lower()\n",
    "    sous_nutri[var] = sous_nutri[var].str.replace(\"è\",'e')\n",
    "    sous_nutri[var] = sous_nutri[var].str.replace(\"-\",'_')\n",
    "    sous_nutri[var] = sous_nutri[var].str.replace(\"&\",' et ')\n",
    "    sous_nutri[var] = sous_nutri[var].str.replace(\"'\",'_')\n",
    "    sous_nutri[var] = sous_nutri[var].str.replace(\"ï\",'i')\n",
    "    sous_nutri[var] = sous_nutri[var].str.replace(\"î\",'i')\n",
    "    sous_nutri[var] = sous_nutri[var].str.replace(\"ô\",'o')\n",
    "    sous_nutri[var] = sous_nutri[var].str.replace(\"/\",'_')\n",
    "    sous_nutri[var] = sous_nutri[var].str.replace(\"ë\",'e')\n",
    "\n",
    "var_modif2 = ['annee']\n",
    "\n",
    "for var2 in var_modif2:\n",
    "    sous_nutri[var2] = sous_nutri[var2].str.replace('2012-2014','2013')\n",
    "    sous_nutri[var2] = sous_nutri[var2].str.replace('2013-2015','2014')\n",
    "    sous_nutri[var2] = sous_nutri[var2].str.replace('2014-2016','2015')\n",
    "    sous_nutri[var2] = sous_nutri[var2].str.replace('2015-2017','2016')\n",
    "    sous_nutri[var2] = sous_nutri[var2].str.replace('2016-2018','2017')\n",
    "    sous_nutri[var2] = sous_nutri[var2].str.replace('2017-2019','2018')"
   ]
  },
  {
   "cell_type": "code",
   "execution_count": 7,
   "id": "45c95f32",
   "metadata": {
    "scrolled": true
   },
   "outputs": [
    {
     "data": {
      "text/html": [
       "<div>\n",
       "<style scoped>\n",
       "    .dataframe tbody tr th:only-of-type {\n",
       "        vertical-align: middle;\n",
       "    }\n",
       "\n",
       "    .dataframe tbody tr th {\n",
       "        vertical-align: top;\n",
       "    }\n",
       "\n",
       "    .dataframe thead th {\n",
       "        text-align: right;\n",
       "    }\n",
       "</style>\n",
       "<table border=\"1\" class=\"dataframe\">\n",
       "  <thead>\n",
       "    <tr style=\"text-align: right;\">\n",
       "      <th></th>\n",
       "      <th>pays</th>\n",
       "      <th>annee</th>\n",
       "      <th>nbr prsn en sous alim en millions</th>\n",
       "    </tr>\n",
       "  </thead>\n",
       "  <tbody>\n",
       "    <tr>\n",
       "      <th>0</th>\n",
       "      <td>afghanistan</td>\n",
       "      <td>2013</td>\n",
       "      <td>8.6</td>\n",
       "    </tr>\n",
       "    <tr>\n",
       "      <th>1</th>\n",
       "      <td>afghanistan</td>\n",
       "      <td>2014</td>\n",
       "      <td>8.8</td>\n",
       "    </tr>\n",
       "    <tr>\n",
       "      <th>2</th>\n",
       "      <td>afghanistan</td>\n",
       "      <td>2015</td>\n",
       "      <td>8.9</td>\n",
       "    </tr>\n",
       "    <tr>\n",
       "      <th>3</th>\n",
       "      <td>afghanistan</td>\n",
       "      <td>2016</td>\n",
       "      <td>9.7</td>\n",
       "    </tr>\n",
       "    <tr>\n",
       "      <th>4</th>\n",
       "      <td>afghanistan</td>\n",
       "      <td>2017</td>\n",
       "      <td>10.5</td>\n",
       "    </tr>\n",
       "    <tr>\n",
       "      <th>5</th>\n",
       "      <td>afghanistan</td>\n",
       "      <td>2018</td>\n",
       "      <td>11.1</td>\n",
       "    </tr>\n",
       "    <tr>\n",
       "      <th>6</th>\n",
       "      <td>afrique du sud</td>\n",
       "      <td>2013</td>\n",
       "      <td>2.2</td>\n",
       "    </tr>\n",
       "    <tr>\n",
       "      <th>7</th>\n",
       "      <td>afrique du sud</td>\n",
       "      <td>2014</td>\n",
       "      <td>2.5</td>\n",
       "    </tr>\n",
       "    <tr>\n",
       "      <th>8</th>\n",
       "      <td>afrique du sud</td>\n",
       "      <td>2015</td>\n",
       "      <td>2.8</td>\n",
       "    </tr>\n",
       "    <tr>\n",
       "      <th>9</th>\n",
       "      <td>afrique du sud</td>\n",
       "      <td>2016</td>\n",
       "      <td>3</td>\n",
       "    </tr>\n",
       "  </tbody>\n",
       "</table>\n",
       "</div>"
      ],
      "text/plain": [
       "             pays annee nbr prsn en sous alim en millions\n",
       "0     afghanistan  2013                               8.6\n",
       "1     afghanistan  2014                               8.8\n",
       "2     afghanistan  2015                               8.9\n",
       "3     afghanistan  2016                               9.7\n",
       "4     afghanistan  2017                              10.5\n",
       "5     afghanistan  2018                              11.1\n",
       "6  afrique du sud  2013                               2.2\n",
       "7  afrique du sud  2014                               2.5\n",
       "8  afrique du sud  2015                               2.8\n",
       "9  afrique du sud  2016                                 3"
      ]
     },
     "execution_count": 7,
     "metadata": {},
     "output_type": "execute_result"
    }
   ],
   "source": [
    "sous_nutri.head(10)"
   ]
  },
  {
   "cell_type": "code",
   "execution_count": 8,
   "id": "9289b21c",
   "metadata": {
    "scrolled": true
   },
   "outputs": [
    {
     "data": {
      "text/plain": [
       "pays                                 object\n",
       "annee                                object\n",
       "nbr prsn en sous alim en millions    object\n",
       "dtype: object"
      ]
     },
     "execution_count": 8,
     "metadata": {},
     "output_type": "execute_result"
    }
   ],
   "source": [
    "sous_nutri.dtypes"
   ]
  },
  {
   "cell_type": "markdown",
   "id": "4d5fa38e",
   "metadata": {},
   "source": [
    "A l'aide de la commande .dtypes ci dessus on s'apperçoit que la colonne 'nbr prsn en sous alim en millions' est considéré comme un types object (texte). \n",
    "\n",
    "On cherche donc a savoir pour qu'elle raison python le detecte comme un object et non un numerique. \n",
    "\n",
    "Pour cela nous allons faire une methode qui permet de voir l'ensemble des données de cette colonne, qui se nomme .unique() et essayer de trouver une annomalie."
   ]
  },
  {
   "cell_type": "code",
   "execution_count": 9,
   "id": "c4dd5e1e",
   "metadata": {
    "scrolled": true
   },
   "outputs": [
    {
     "data": {
      "text/plain": [
       "array(['8.6', '8.8', '8.9', '9.7', '10.5', '11.1', '2.2', '2.5', '2.8',\n",
       "       '3', '3.1', '3.3', '0.1', '1.3', '1.2', nan, '7.6', '6.2', '5.3',\n",
       "       '5.6', '5.8', '5.7', '1.5', '1.6', '1.1', '1.7', '<0.1', '21.7',\n",
       "       '22.4', '23.3', '22.3', '21.5', '20.9', '0.8', '2', '1.9', '1.8',\n",
       "       '0.4', '0.5', '0.3', '0.2', '3.2', '3.4', '3.6', '3.8', '2.1',\n",
       "       '2.3', '2.4', '0.6', '0.7', '0.9', '3.9', '2.7', '1.4', '4.8',\n",
       "       '4.6', '4.9', '5', '4.4', '4.3', '4.2', '4.5', '26.2', '24.3',\n",
       "       '21.3', '21.1', '2.9', '5.1', '5.2', '5.4', '203.8', '198.3',\n",
       "       '193.1', '190.9', '190.1', '189.2', '23.6', '24', '24.1', '3.7',\n",
       "       '7.3', '7.8', '8.4', '9', '9.1', '10.1', '10', '10.7', '11.5',\n",
       "       '11.9', '11.8', '8.7', '10.3', '11', '1', '5.5', '6.8', '7.9',\n",
       "       '5.9', '7', '9.2', '9.4', '9.6', '6.7', '7.1', '7.2', '14.7',\n",
       "       '17.4', '20.2', '22.2', '22.8', '24.6', '31.1', '28.5', '25.4',\n",
       "       '24.8', '26.1', '14.5', '15.4', '16.5', '15.8', '15.7', '10.8',\n",
       "       '11.2', '11.6', '12', '12.2', '13.5', '13.2', '12.8', '13', '13.4',\n",
       "       '14.1', '4.1', '6.1', '6', '6.5', '2.6', '8', '8.3'], dtype=object)"
      ]
     },
     "execution_count": 9,
     "metadata": {},
     "output_type": "execute_result"
    }
   ],
   "source": [
    "sous_nutri['nbr prsn en sous alim en millions'].unique()"
   ]
  },
  {
   "cell_type": "markdown",
   "id": "25bb6b17",
   "metadata": {},
   "source": [
    "On peut voir la presence d'une valeur manquante mais celle si n'a aucune influence sur le type de donné de la colonne.\n",
    "\n",
    "Au contraire on peut aussi voir la présence d'une valeur qui est '<0.1', la présence de celle-ci est la raison pour laquelle python declare cette colone comme object. \n",
    "\n",
    "On va donc devoir remplacer cette valeur. \n",
    "\n",
    "Deux choix s'offre a nous, soit la remplacer par 0 ou par 0.1 en considerant que 0.1 = 100.000 personnes en sous alimentation. \n",
    "    Peut importe le choix que nous allons faire, statistiquement parlant cela n'aura pas une grande importance.\n",
    "\n",
    "On remplace donc la valeur, et ensuite on converti la colonne en numeric. ( pd.to_numeric )"
   ]
  },
  {
   "cell_type": "code",
   "execution_count": 10,
   "id": "031f374f",
   "metadata": {
    "scrolled": true
   },
   "outputs": [],
   "source": [
    "sous_nutri = sous_nutri.replace('<0.1','0')"
   ]
  },
  {
   "cell_type": "code",
   "execution_count": 11,
   "id": "305ec099",
   "metadata": {},
   "outputs": [
    {
     "data": {
      "text/plain": [
       "array(['8.6', '8.8', '8.9', '9.7', '10.5', '11.1', '2.2', '2.5', '2.8',\n",
       "       '3', '3.1', '3.3', '0.1', '1.3', '1.2', nan, '7.6', '6.2', '5.3',\n",
       "       '5.6', '5.8', '5.7', '1.5', '1.6', '1.1', '1.7', '0', '21.7',\n",
       "       '22.4', '23.3', '22.3', '21.5', '20.9', '0.8', '2', '1.9', '1.8',\n",
       "       '0.4', '0.5', '0.3', '0.2', '3.2', '3.4', '3.6', '3.8', '2.1',\n",
       "       '2.3', '2.4', '0.6', '0.7', '0.9', '3.9', '2.7', '1.4', '4.8',\n",
       "       '4.6', '4.9', '5', '4.4', '4.3', '4.2', '4.5', '26.2', '24.3',\n",
       "       '21.3', '21.1', '2.9', '5.1', '5.2', '5.4', '203.8', '198.3',\n",
       "       '193.1', '190.9', '190.1', '189.2', '23.6', '24', '24.1', '3.7',\n",
       "       '7.3', '7.8', '8.4', '9', '9.1', '10.1', '10', '10.7', '11.5',\n",
       "       '11.9', '11.8', '8.7', '10.3', '11', '1', '5.5', '6.8', '7.9',\n",
       "       '5.9', '7', '9.2', '9.4', '9.6', '6.7', '7.1', '7.2', '14.7',\n",
       "       '17.4', '20.2', '22.2', '22.8', '24.6', '31.1', '28.5', '25.4',\n",
       "       '24.8', '26.1', '14.5', '15.4', '16.5', '15.8', '15.7', '10.8',\n",
       "       '11.2', '11.6', '12', '12.2', '13.5', '13.2', '12.8', '13', '13.4',\n",
       "       '14.1', '4.1', '6.1', '6', '6.5', '2.6', '8', '8.3'], dtype=object)"
      ]
     },
     "execution_count": 11,
     "metadata": {},
     "output_type": "execute_result"
    }
   ],
   "source": [
    "sous_nutri['nbr prsn en sous alim en millions'].unique()"
   ]
  },
  {
   "cell_type": "code",
   "execution_count": 12,
   "id": "4d144c33",
   "metadata": {},
   "outputs": [],
   "source": [
    "sous_nutri['nbr prsn en sous alim en millions'] = pd.to_numeric(sous_nutri['nbr prsn en sous alim en millions'])\n",
    "sous_nutri['annee'] = pd.to_numeric(sous_nutri['annee'])"
   ]
  },
  {
   "cell_type": "code",
   "execution_count": 13,
   "id": "00ddfa6d",
   "metadata": {
    "scrolled": false
   },
   "outputs": [
    {
     "data": {
      "text/plain": [
       "pays                                  object\n",
       "annee                                  int64\n",
       "nbr prsn en sous alim en millions    float64\n",
       "dtype: object"
      ]
     },
     "execution_count": 13,
     "metadata": {},
     "output_type": "execute_result"
    }
   ],
   "source": [
    "sous_nutri.dtypes"
   ]
  },
  {
   "cell_type": "markdown",
   "id": "a22cc130",
   "metadata": {},
   "source": [
    "On utilise la methode .isna().mean() , pour avoir le nombre moyen de valeur manquante dans les colonnes dataframe sous_nutri"
   ]
  },
  {
   "cell_type": "code",
   "execution_count": 14,
   "id": "482d85a9",
   "metadata": {},
   "outputs": [
    {
     "data": {
      "text/plain": [
       "pays                                 0.000000\n",
       "annee                                0.000000\n",
       "nbr prsn en sous alim en millions    0.487685\n",
       "dtype: float64"
      ]
     },
     "execution_count": 14,
     "metadata": {},
     "output_type": "execute_result"
    }
   ],
   "source": [
    "sous_nutri.isna().mean()"
   ]
  },
  {
   "cell_type": "markdown",
   "id": "9e6c01e6",
   "metadata": {},
   "source": [
    "Pareil que pour le dataframe dispo_alim, on s'appercoit que le pourcentage de valeurs manquantes et trop grand pour supprimer les les lignes où les valeurs manquantes sont presente. \n",
    "\n",
    "On remplace donc les valeurs manquantes par 0."
   ]
  },
  {
   "cell_type": "code",
   "execution_count": 15,
   "id": "e3445515",
   "metadata": {},
   "outputs": [],
   "source": [
    "sous_nutri.fillna(0, inplace=True)"
   ]
  },
  {
   "cell_type": "code",
   "execution_count": 16,
   "id": "f8292fce",
   "metadata": {
    "scrolled": true
   },
   "outputs": [
    {
     "data": {
      "text/plain": [
       "pays                                 0\n",
       "annee                                0\n",
       "nbr prsn en sous alim en millions    0\n",
       "dtype: int64"
      ]
     },
     "execution_count": 16,
     "metadata": {},
     "output_type": "execute_result"
    }
   ],
   "source": [
    "sous_nutri.isna().sum()"
   ]
  },
  {
   "cell_type": "code",
   "execution_count": 17,
   "id": "2b3b9683",
   "metadata": {},
   "outputs": [
    {
     "data": {
      "text/plain": [
       "array([8.600e+00, 8.800e+00, 8.900e+00, 9.700e+00, 1.050e+01, 1.110e+01,\n",
       "       2.200e+00, 2.500e+00, 2.800e+00, 3.000e+00, 3.100e+00, 3.300e+00,\n",
       "       1.000e-01, 1.300e+00, 1.200e+00, 0.000e+00, 7.600e+00, 6.200e+00,\n",
       "       5.300e+00, 5.600e+00, 5.800e+00, 5.700e+00, 1.500e+00, 1.600e+00,\n",
       "       1.100e+00, 1.700e+00, 2.170e+01, 2.240e+01, 2.330e+01, 2.230e+01,\n",
       "       2.150e+01, 2.090e+01, 8.000e-01, 2.000e+00, 1.900e+00, 1.800e+00,\n",
       "       4.000e-01, 5.000e-01, 3.000e-01, 2.000e-01, 3.200e+00, 3.400e+00,\n",
       "       3.600e+00, 3.800e+00, 2.100e+00, 2.300e+00, 2.400e+00, 6.000e-01,\n",
       "       7.000e-01, 9.000e-01, 3.900e+00, 2.700e+00, 1.400e+00, 4.800e+00,\n",
       "       4.600e+00, 4.900e+00, 5.000e+00, 4.400e+00, 4.300e+00, 4.200e+00,\n",
       "       4.500e+00, 2.620e+01, 2.430e+01, 2.130e+01, 2.110e+01, 2.900e+00,\n",
       "       5.100e+00, 5.200e+00, 5.400e+00, 2.038e+02, 1.983e+02, 1.931e+02,\n",
       "       1.909e+02, 1.901e+02, 1.892e+02, 2.360e+01, 2.400e+01, 2.410e+01,\n",
       "       3.700e+00, 7.300e+00, 7.800e+00, 8.400e+00, 9.000e+00, 9.100e+00,\n",
       "       1.010e+01, 1.000e+01, 1.070e+01, 1.150e+01, 1.190e+01, 1.180e+01,\n",
       "       8.700e+00, 1.030e+01, 1.100e+01, 1.000e+00, 5.500e+00, 6.800e+00,\n",
       "       7.900e+00, 5.900e+00, 7.000e+00, 9.200e+00, 9.400e+00, 9.600e+00,\n",
       "       6.700e+00, 7.100e+00, 7.200e+00, 1.470e+01, 1.740e+01, 2.020e+01,\n",
       "       2.220e+01, 2.280e+01, 2.460e+01, 3.110e+01, 2.850e+01, 2.540e+01,\n",
       "       2.480e+01, 2.610e+01, 1.450e+01, 1.540e+01, 1.650e+01, 1.580e+01,\n",
       "       1.570e+01, 1.080e+01, 1.120e+01, 1.160e+01, 1.200e+01, 1.220e+01,\n",
       "       1.350e+01, 1.320e+01, 1.280e+01, 1.300e+01, 1.340e+01, 1.410e+01,\n",
       "       4.100e+00, 6.100e+00, 6.000e+00, 6.500e+00, 2.600e+00, 8.000e+00,\n",
       "       8.300e+00])"
      ]
     },
     "execution_count": 17,
     "metadata": {},
     "output_type": "execute_result"
    }
   ],
   "source": [
    "sous_nutri['nbr prsn en sous alim en millions'].unique()"
   ]
  },
  {
   "cell_type": "markdown",
   "id": "2aeff6bb",
   "metadata": {},
   "source": [
    "Ensuite, on multiplie par 10 puissance 6 pour avoir le nombre de personne en sous alimentation en millions. "
   ]
  },
  {
   "cell_type": "code",
   "execution_count": 18,
   "id": "3cba6ec7",
   "metadata": {},
   "outputs": [],
   "source": [
    "sous_nutri['nbr prsn en sous alim en millions'] = sous_nutri['nbr prsn en sous alim en millions']*10**6"
   ]
  },
  {
   "cell_type": "code",
   "execution_count": 19,
   "id": "807278d5",
   "metadata": {},
   "outputs": [
    {
     "data": {
      "text/html": [
       "<div>\n",
       "<style scoped>\n",
       "    .dataframe tbody tr th:only-of-type {\n",
       "        vertical-align: middle;\n",
       "    }\n",
       "\n",
       "    .dataframe tbody tr th {\n",
       "        vertical-align: top;\n",
       "    }\n",
       "\n",
       "    .dataframe thead th {\n",
       "        text-align: right;\n",
       "    }\n",
       "</style>\n",
       "<table border=\"1\" class=\"dataframe\">\n",
       "  <thead>\n",
       "    <tr style=\"text-align: right;\">\n",
       "      <th></th>\n",
       "      <th>pays</th>\n",
       "      <th>annee</th>\n",
       "      <th>nbr prsn en sous alim en millions</th>\n",
       "    </tr>\n",
       "  </thead>\n",
       "  <tbody>\n",
       "    <tr>\n",
       "      <th>0</th>\n",
       "      <td>afghanistan</td>\n",
       "      <td>2013</td>\n",
       "      <td>8600000.0</td>\n",
       "    </tr>\n",
       "    <tr>\n",
       "      <th>1</th>\n",
       "      <td>afghanistan</td>\n",
       "      <td>2014</td>\n",
       "      <td>8800000.0</td>\n",
       "    </tr>\n",
       "    <tr>\n",
       "      <th>2</th>\n",
       "      <td>afghanistan</td>\n",
       "      <td>2015</td>\n",
       "      <td>8900000.0</td>\n",
       "    </tr>\n",
       "    <tr>\n",
       "      <th>3</th>\n",
       "      <td>afghanistan</td>\n",
       "      <td>2016</td>\n",
       "      <td>9700000.0</td>\n",
       "    </tr>\n",
       "    <tr>\n",
       "      <th>4</th>\n",
       "      <td>afghanistan</td>\n",
       "      <td>2017</td>\n",
       "      <td>10500000.0</td>\n",
       "    </tr>\n",
       "  </tbody>\n",
       "</table>\n",
       "</div>"
      ],
      "text/plain": [
       "          pays  annee  nbr prsn en sous alim en millions\n",
       "0  afghanistan   2013                          8600000.0\n",
       "1  afghanistan   2014                          8800000.0\n",
       "2  afghanistan   2015                          8900000.0\n",
       "3  afghanistan   2016                          9700000.0\n",
       "4  afghanistan   2017                         10500000.0"
      ]
     },
     "execution_count": 19,
     "metadata": {},
     "output_type": "execute_result"
    }
   ],
   "source": [
    "sous_nutri.head()"
   ]
  },
  {
   "cell_type": "code",
   "execution_count": 20,
   "id": "d4a210b7",
   "metadata": {},
   "outputs": [],
   "source": [
    "popula.columns = popula.columns.str.lower()\n",
    "popula.columns = popula.columns.str.replace('é','e')\n",
    "popula.columns = popula.columns.str.replace('è','e')\n",
    "popula.columns = popula.columns.str.replace('-','_')\n",
    "popula.rename(columns={'valeur' : 'nbr habitant en milliers'}, inplace=True)\n",
    "popula.rename(columns={'zone' : 'pays'}, inplace=True)\n",
    "popula['pays'] = popula['pays'].replace(['royaume uni de grande bretagne et dirlande du nord'],'Royaume-Uni')\n",
    "popula['nbr habitant en milliers'] = popula['nbr habitant en milliers']*10**3\n",
    "popula.rename(columns={'nbr habitant en milliers' : 'nbr habitant en millions'}, inplace=True)\n",
    "\n",
    "var_modif = [ 'pays']\n",
    "\n",
    "for var in var_modif:\n",
    "    popula[var] = popula[var].str.replace(\"é\",\"e\")\n",
    "    popula[var] = popula[var].str.lower()\n",
    "    popula[var] = popula[var].str.replace(\"è\",'e')\n",
    "    popula[var] = popula[var].str.replace(\"-\",'_')\n",
    "    popula[var] = popula[var].str.replace(\"&\",' et ')\n",
    "    popula[var] = popula[var].str.replace(\"'\",'_')\n",
    "    popula[var] = popula[var].str.replace(\"ï\",'i')\n",
    "    popula[var] = popula[var].str.replace(\"î\",'i')\n",
    "    popula[var] = popula[var].str.replace(\"ô\",'o')\n",
    "    popula[var] = popula[var].str.replace(\"/\",'_')\n",
    "    popula[var] = popula[var].str.replace(\"ë\",'e')\n",
    "\n"
   ]
  },
  {
   "cell_type": "code",
   "execution_count": 21,
   "id": "cad9e018",
   "metadata": {},
   "outputs": [
    {
     "data": {
      "text/html": [
       "<div>\n",
       "<style scoped>\n",
       "    .dataframe tbody tr th:only-of-type {\n",
       "        vertical-align: middle;\n",
       "    }\n",
       "\n",
       "    .dataframe tbody tr th {\n",
       "        vertical-align: top;\n",
       "    }\n",
       "\n",
       "    .dataframe thead th {\n",
       "        text-align: right;\n",
       "    }\n",
       "</style>\n",
       "<table border=\"1\" class=\"dataframe\">\n",
       "  <thead>\n",
       "    <tr style=\"text-align: right;\">\n",
       "      <th></th>\n",
       "      <th>pays</th>\n",
       "      <th>annee</th>\n",
       "      <th>nbr habitant en millions</th>\n",
       "    </tr>\n",
       "  </thead>\n",
       "  <tbody>\n",
       "    <tr>\n",
       "      <th>0</th>\n",
       "      <td>afghanistan</td>\n",
       "      <td>2013</td>\n",
       "      <td>32269589.0</td>\n",
       "    </tr>\n",
       "    <tr>\n",
       "      <th>1</th>\n",
       "      <td>afghanistan</td>\n",
       "      <td>2014</td>\n",
       "      <td>33370794.0</td>\n",
       "    </tr>\n",
       "    <tr>\n",
       "      <th>2</th>\n",
       "      <td>afghanistan</td>\n",
       "      <td>2015</td>\n",
       "      <td>34413603.0</td>\n",
       "    </tr>\n",
       "    <tr>\n",
       "      <th>3</th>\n",
       "      <td>afghanistan</td>\n",
       "      <td>2016</td>\n",
       "      <td>35383032.0</td>\n",
       "    </tr>\n",
       "    <tr>\n",
       "      <th>4</th>\n",
       "      <td>afghanistan</td>\n",
       "      <td>2017</td>\n",
       "      <td>36296113.0</td>\n",
       "    </tr>\n",
       "  </tbody>\n",
       "</table>\n",
       "</div>"
      ],
      "text/plain": [
       "          pays  annee  nbr habitant en millions\n",
       "0  afghanistan   2013                32269589.0\n",
       "1  afghanistan   2014                33370794.0\n",
       "2  afghanistan   2015                34413603.0\n",
       "3  afghanistan   2016                35383032.0\n",
       "4  afghanistan   2017                36296113.0"
      ]
     },
     "execution_count": 21,
     "metadata": {},
     "output_type": "execute_result"
    }
   ],
   "source": [
    "popula.head()"
   ]
  },
  {
   "cell_type": "code",
   "execution_count": 22,
   "id": "3be2b703",
   "metadata": {},
   "outputs": [
    {
     "data": {
      "text/plain": [
       "pays                         object\n",
       "annee                         int64\n",
       "nbr habitant en millions    float64\n",
       "dtype: object"
      ]
     },
     "execution_count": 22,
     "metadata": {},
     "output_type": "execute_result"
    }
   ],
   "source": [
    "popula.dtypes"
   ]
  },
  {
   "cell_type": "code",
   "execution_count": 23,
   "id": "c3dd8e3f",
   "metadata": {},
   "outputs": [
    {
     "data": {
      "text/plain": [
       "pays                        0.0\n",
       "annee                       0.0\n",
       "nbr habitant en millions    0.0\n",
       "dtype: float64"
      ]
     },
     "execution_count": 23,
     "metadata": {},
     "output_type": "execute_result"
    }
   ],
   "source": [
    "popula.isna().mean()"
   ]
  },
  {
   "cell_type": "code",
   "execution_count": 24,
   "id": "b2e79412",
   "metadata": {},
   "outputs": [],
   "source": [
    "aide_alim.columns = aide_alim.columns.str.lower()\n",
    "aide_alim.columns = aide_alim.columns.str.replace('é','e')\n",
    "aide_alim.columns = aide_alim.columns.str.replace('è','e')\n",
    "aide_alim.rename(columns={'valeur' : 'quantite acquis en kg'}, inplace=True)\n",
    "aide_alim.rename(columns={'pays beneficiaire' : 'pays'}, inplace=True)\n",
    "aide_alim['pays'] = aide_alim['pays'].replace(['swaziland'],'eswatini')\n",
    "aide_alim['quantite acquis en kg'] = aide_alim['quantite acquis en kg']*10**3\n",
    "\n",
    "var_modif = [ 'produit', 'pays']\n",
    "\n",
    "for var in var_modif:\n",
    "    aide_alim[var] = aide_alim[var].str.replace(\"é\",\"e\")\n",
    "    aide_alim[var] = aide_alim[var].str.lower()\n",
    "    aide_alim[var] = aide_alim[var].str.replace(\"è\",'e')\n",
    "    aide_alim[var] = aide_alim[var].str.replace(\"-\",'_')\n",
    "    aide_alim[var] = aide_alim[var].str.replace(\"&\",' et ')\n",
    "    aide_alim[var] = aide_alim[var].str.replace(\"'\",'_')"
   ]
  },
  {
   "cell_type": "code",
   "execution_count": 25,
   "id": "3a6d356b",
   "metadata": {},
   "outputs": [
    {
     "data": {
      "text/html": [
       "<div>\n",
       "<style scoped>\n",
       "    .dataframe tbody tr th:only-of-type {\n",
       "        vertical-align: middle;\n",
       "    }\n",
       "\n",
       "    .dataframe tbody tr th {\n",
       "        vertical-align: top;\n",
       "    }\n",
       "\n",
       "    .dataframe thead th {\n",
       "        text-align: right;\n",
       "    }\n",
       "</style>\n",
       "<table border=\"1\" class=\"dataframe\">\n",
       "  <thead>\n",
       "    <tr style=\"text-align: right;\">\n",
       "      <th></th>\n",
       "      <th>pays</th>\n",
       "      <th>annee</th>\n",
       "      <th>produit</th>\n",
       "      <th>quantite acquis en kg</th>\n",
       "    </tr>\n",
       "  </thead>\n",
       "  <tbody>\n",
       "    <tr>\n",
       "      <th>0</th>\n",
       "      <td>afghanistan</td>\n",
       "      <td>2013</td>\n",
       "      <td>autres non_cereales</td>\n",
       "      <td>682000</td>\n",
       "    </tr>\n",
       "    <tr>\n",
       "      <th>1</th>\n",
       "      <td>afghanistan</td>\n",
       "      <td>2014</td>\n",
       "      <td>autres non_cereales</td>\n",
       "      <td>335000</td>\n",
       "    </tr>\n",
       "    <tr>\n",
       "      <th>2</th>\n",
       "      <td>afghanistan</td>\n",
       "      <td>2013</td>\n",
       "      <td>ble et farin</td>\n",
       "      <td>39224000</td>\n",
       "    </tr>\n",
       "    <tr>\n",
       "      <th>3</th>\n",
       "      <td>afghanistan</td>\n",
       "      <td>2014</td>\n",
       "      <td>ble et farin</td>\n",
       "      <td>15160000</td>\n",
       "    </tr>\n",
       "    <tr>\n",
       "      <th>4</th>\n",
       "      <td>afghanistan</td>\n",
       "      <td>2013</td>\n",
       "      <td>cereales</td>\n",
       "      <td>40504000</td>\n",
       "    </tr>\n",
       "  </tbody>\n",
       "</table>\n",
       "</div>"
      ],
      "text/plain": [
       "          pays  annee              produit  quantite acquis en kg\n",
       "0  afghanistan   2013  autres non_cereales                 682000\n",
       "1  afghanistan   2014  autres non_cereales                 335000\n",
       "2  afghanistan   2013         ble et farin               39224000\n",
       "3  afghanistan   2014         ble et farin               15160000\n",
       "4  afghanistan   2013             cereales               40504000"
      ]
     },
     "execution_count": 25,
     "metadata": {},
     "output_type": "execute_result"
    }
   ],
   "source": [
    "aide_alim.head()"
   ]
  },
  {
   "cell_type": "code",
   "execution_count": 26,
   "id": "8e405a72",
   "metadata": {},
   "outputs": [
    {
     "data": {
      "text/plain": [
       "array([2013, 2014, 2015, 2016], dtype=int64)"
      ]
     },
     "execution_count": 26,
     "metadata": {},
     "output_type": "execute_result"
    }
   ],
   "source": [
    "aide_alim['annee'].unique()"
   ]
  },
  {
   "cell_type": "code",
   "execution_count": 27,
   "id": "91e2ee42",
   "metadata": {},
   "outputs": [
    {
     "data": {
      "text/plain": [
       "pays                     object\n",
       "annee                     int64\n",
       "produit                  object\n",
       "quantite acquis en kg     int64\n",
       "dtype: object"
      ]
     },
     "execution_count": 27,
     "metadata": {},
     "output_type": "execute_result"
    }
   ],
   "source": [
    "aide_alim.dtypes"
   ]
  },
  {
   "cell_type": "markdown",
   "id": "33966f25",
   "metadata": {},
   "source": [
    " ###      Question I  -      PROPORTION DES PERSONNES EN ETAT DE SOUS NUTRITION EN 2017"
   ]
  },
  {
   "cell_type": "markdown",
   "id": "56573c4b",
   "metadata": {},
   "source": [
    "Pour calculer la proportion des personnes en état de sous nutrition en 2017 , nous avons besoin tout d'abord :\n",
    "\n",
    "    - De la population mondiale en 2017\n",
    "    - De la population mondiale en état de sous nutrition en 2017\n",
    "    - Et de calculer sa proportion a l'aide de ces deux données."
   ]
  },
  {
   "cell_type": "code",
   "execution_count": 28,
   "id": "d4dbdf80",
   "metadata": {},
   "outputs": [
    {
     "data": {
      "text/html": [
       "<div>\n",
       "<style scoped>\n",
       "    .dataframe tbody tr th:only-of-type {\n",
       "        vertical-align: middle;\n",
       "    }\n",
       "\n",
       "    .dataframe tbody tr th {\n",
       "        vertical-align: top;\n",
       "    }\n",
       "\n",
       "    .dataframe thead th {\n",
       "        text-align: right;\n",
       "    }\n",
       "</style>\n",
       "<table border=\"1\" class=\"dataframe\">\n",
       "  <thead>\n",
       "    <tr style=\"text-align: right;\">\n",
       "      <th></th>\n",
       "      <th>pays</th>\n",
       "      <th>nbr prsn en sous alim en millions</th>\n",
       "      <th>nbr habitant en millions</th>\n",
       "    </tr>\n",
       "  </thead>\n",
       "  <tbody>\n",
       "    <tr>\n",
       "      <th>0</th>\n",
       "      <td>afghanistan</td>\n",
       "      <td>10500000.0</td>\n",
       "      <td>36296113.0</td>\n",
       "    </tr>\n",
       "    <tr>\n",
       "      <th>1</th>\n",
       "      <td>afrique du sud</td>\n",
       "      <td>3100000.0</td>\n",
       "      <td>57009756.0</td>\n",
       "    </tr>\n",
       "    <tr>\n",
       "      <th>2</th>\n",
       "      <td>albanie</td>\n",
       "      <td>100000.0</td>\n",
       "      <td>2884169.0</td>\n",
       "    </tr>\n",
       "    <tr>\n",
       "      <th>3</th>\n",
       "      <td>algerie</td>\n",
       "      <td>1300000.0</td>\n",
       "      <td>41389189.0</td>\n",
       "    </tr>\n",
       "    <tr>\n",
       "      <th>4</th>\n",
       "      <td>allemagne</td>\n",
       "      <td>0.0</td>\n",
       "      <td>82658409.0</td>\n",
       "    </tr>\n",
       "  </tbody>\n",
       "</table>\n",
       "</div>"
      ],
      "text/plain": [
       "             pays  nbr prsn en sous alim en millions  nbr habitant en millions\n",
       "0     afghanistan                         10500000.0                36296113.0\n",
       "1  afrique du sud                          3100000.0                57009756.0\n",
       "2         albanie                           100000.0                 2884169.0\n",
       "3         algerie                          1300000.0                41389189.0\n",
       "4       allemagne                                0.0                82658409.0"
      ]
     },
     "execution_count": 28,
     "metadata": {},
     "output_type": "execute_result"
    }
   ],
   "source": [
    "# Jointure intérieure entre les dataframes population et sous nutrition avec pays comme clé commune\n",
    "popu_X_sousnutri = pd.merge(sous_nutri.loc[sous_nutri['annee'] == 2017 ,['pays','nbr prsn en sous alim en millions']] ,popula.loc[popula['annee']==2017 ,['pays','nbr habitant en millions']], on='pays' ,how='inner')\n",
    "popu_X_sousnutri.head()"
   ]
  },
  {
   "cell_type": "code",
   "execution_count": 29,
   "id": "e370182d",
   "metadata": {
    "scrolled": true
   },
   "outputs": [
    {
     "name": "stdout",
     "output_type": "stream",
     "text": [
      "La population mondiale en 2017 s éleve a 7543798779 habitants.\n"
     ]
    }
   ],
   "source": [
    "# Calcul de la population mondiale en 2017\n",
    "population_mondiale_2017 = popu_X_sousnutri['nbr habitant en millions'].sum()\n",
    "print('La population mondiale en 2017 s éleve a ' + str(round(population_mondiale_2017)) + ' habitants.')"
   ]
  },
  {
   "cell_type": "markdown",
   "id": "1d580696",
   "metadata": {},
   "source": [
    "Nous avons calculer le nombre d'habitant dans le monde en 2017.\n",
    "\n",
    "Nous allons maintenant calculer la nombre d'habitants en sous nutrition dans le monde en 2017"
   ]
  },
  {
   "cell_type": "code",
   "execution_count": 30,
   "id": "14f0c948",
   "metadata": {},
   "outputs": [
    {
     "name": "stdout",
     "output_type": "stream",
     "text": [
      "La population mondiale en etat de sous nutrition en 2017 s éleve a 535700000 habitants.\n"
     ]
    }
   ],
   "source": [
    "# Calcul du nombre de personnes en sous nutrion en 2017\n",
    "nbr_prsn_sous_alim2017 = popu_X_sousnutri['nbr prsn en sous alim en millions'].sum() \n",
    "print('La population mondiale en etat de sous nutrition en 2017 s éleve a ' + str(round(nbr_prsn_sous_alim2017)) + ' habitants.')"
   ]
  },
  {
   "cell_type": "markdown",
   "id": "f950b910",
   "metadata": {},
   "source": [
    "Nous avons calculer la population mondiale en état de sous nutrition.\n",
    "\n",
    "Nous disposons de toutes les données necessaires pour pour calculer la proportion de personnes en état de sous nutrition en 2017."
   ]
  },
  {
   "cell_type": "code",
   "execution_count": 31,
   "id": "17ea40b5",
   "metadata": {},
   "outputs": [
    {
     "data": {
      "image/png": "[encoded data removed]",
      "text/plain": [
       "<Figure size 648x648 with 1 Axes>"
      ]
     },
     "metadata": {
      "needs_background": "light"
     },
     "output_type": "display_data"
    }
   ],
   "source": [
    "pop = [round(population_mondiale_2017)]\n",
    "x2 = [\"Population totale\"]\n",
    "x3 = [\"Population sous-nutrie\"]\n",
    "sous_nutrie = [(round(nbr_prsn_sous_alim2017))]\n",
    "\n",
    "plt.figure(figsize=(9,9))\n",
    "plt.bar(x2, pop,  width= 1, label=\"Nombre de personne total\")\n",
    "plt.bar(x3, sous_nutrie, width= 1, label=\"Nombre de personne sous-nutries\")\n",
    "plt.title(\"Nombre de personnes en état de sous-nutrition en 2017\", pad=(20),\n",
    "          fontdict={'family': 'serif', \n",
    "                    'color' : 'black',\n",
    "                    'weight': 'bold',\n",
    "                    'size': 18});\n",
    "i = 0\n",
    "j = 1\n",
    "for i in range(len(x2)):\n",
    "    plt.annotate(pop[i], ( i, pop[i] + j), ha=\"center\")\n",
    "i = 0\n",
    "j = 1\n",
    "for i in range(len(x3)):\n",
    "    plt.annotate(sous_nutrie[i], ( j, sous_nutrie[i] + j), ha=\"center\")\n",
    "\n",
    "plt.legend()\n",
    "plt.ylabel(\"Nombre de personnes\")\n",
    "plt.show()"
   ]
  },
  {
   "cell_type": "code",
   "execution_count": 32,
   "id": "5f8594ca",
   "metadata": {},
   "outputs": [
    {
     "name": "stdout",
     "output_type": "stream",
     "text": [
      "La proportion des personnes en état de sous alimentation dans le monde en 2017 est de 7.1 %\n"
     ]
    }
   ],
   "source": [
    "# Calcul de la proportion de personnes en sous alimentation dans le monde en 2017\n",
    "prop_prsn_sous_alim_2017 = (nbr_prsn_sous_alim2017/population_mondiale_2017)*100\n",
    "print('La proportion des personnes en état de sous alimentation dans le monde en 2017 est de ' + str(round(prop_prsn_sous_alim_2017 ,2)) + ' %' )"
   ]
  },
  {
   "cell_type": "code",
   "execution_count": 33,
   "id": "9bc9fa68",
   "metadata": {
    "scrolled": false
   },
   "outputs": [
    {
     "data": {
      "image/png": "[encoded data removed]",
      "text/plain": [
       "<Figure size 648x648 with 1 Axes>"
      ]
     },
     "metadata": {},
     "output_type": "display_data"
    }
   ],
   "source": [
    "# Etablissement d'un graphique montrant la proportion de personnes en état de sous nutrition en 2017 à l'aide de la librairie matplolib\n",
    "graph_popsousnutrie = [population_mondiale_2017-nbr_prsn_sous_alim2017,nbr_prsn_sous_alim2017]\n",
    "\n",
    "plt.figure(figsize=(9,9))\n",
    "plt.pie(graph_popsousnutrie, labels=[\"Population 2017 totale\",\"Population sous-nutrie 2017\"],\n",
    "         normalize = True,\n",
    "       autopct = lambda x: str(round(x, 2)) + '%' )\n",
    "my_circle=plt.Circle( (0,0), 0.7, color='white')\n",
    "p=plt.gcf()\n",
    "p.gca().add_artist(my_circle)\n",
    "plt.title(\"Proportion de personnes en état de sous-nutrition\",\n",
    "          fontdict={'family': 'serif', \n",
    "                    'color' : 'black',\n",
    "                    'weight': 'bold',\n",
    "                    'size': 18})\n",
    "plt.show()"
   ]
  },
  {
   "cell_type": "markdown",
   "id": "e195925b",
   "metadata": {},
   "source": [
    "### - Mélanie nous demande de lui donné les pays pour lesquels la proportion de personnes sous-alimentées est la plus forte en 2017\n",
    "\n",
    "Pour cela il faudrais que nous calculions tout d'abord la proportion des personnes en sous nutrition pour chaque pays en 2017 : "
   ]
  },
  {
   "cell_type": "code",
   "execution_count": 34,
   "id": "27317c24",
   "metadata": {},
   "outputs": [
    {
     "data": {
      "text/html": [
       "<div>\n",
       "<style scoped>\n",
       "    .dataframe tbody tr th:only-of-type {\n",
       "        vertical-align: middle;\n",
       "    }\n",
       "\n",
       "    .dataframe tbody tr th {\n",
       "        vertical-align: top;\n",
       "    }\n",
       "\n",
       "    .dataframe thead th {\n",
       "        text-align: right;\n",
       "    }\n",
       "</style>\n",
       "<table border=\"1\" class=\"dataframe\">\n",
       "  <thead>\n",
       "    <tr style=\"text-align: right;\">\n",
       "      <th></th>\n",
       "      <th>pays</th>\n",
       "      <th>nbr prsn en sous alim en millions</th>\n",
       "      <th>nbr habitant en millions</th>\n",
       "    </tr>\n",
       "  </thead>\n",
       "  <tbody>\n",
       "    <tr>\n",
       "      <th>0</th>\n",
       "      <td>afghanistan</td>\n",
       "      <td>10500000.0</td>\n",
       "      <td>36296113.0</td>\n",
       "    </tr>\n",
       "    <tr>\n",
       "      <th>1</th>\n",
       "      <td>afrique du sud</td>\n",
       "      <td>3100000.0</td>\n",
       "      <td>57009756.0</td>\n",
       "    </tr>\n",
       "    <tr>\n",
       "      <th>2</th>\n",
       "      <td>albanie</td>\n",
       "      <td>100000.0</td>\n",
       "      <td>2884169.0</td>\n",
       "    </tr>\n",
       "    <tr>\n",
       "      <th>3</th>\n",
       "      <td>algerie</td>\n",
       "      <td>1300000.0</td>\n",
       "      <td>41389189.0</td>\n",
       "    </tr>\n",
       "    <tr>\n",
       "      <th>4</th>\n",
       "      <td>allemagne</td>\n",
       "      <td>0.0</td>\n",
       "      <td>82658409.0</td>\n",
       "    </tr>\n",
       "  </tbody>\n",
       "</table>\n",
       "</div>"
      ],
      "text/plain": [
       "             pays  nbr prsn en sous alim en millions  nbr habitant en millions\n",
       "0     afghanistan                         10500000.0                36296113.0\n",
       "1  afrique du sud                          3100000.0                57009756.0\n",
       "2         albanie                           100000.0                 2884169.0\n",
       "3         algerie                          1300000.0                41389189.0\n",
       "4       allemagne                                0.0                82658409.0"
      ]
     },
     "execution_count": 34,
     "metadata": {},
     "output_type": "execute_result"
    }
   ],
   "source": [
    "popu_X_sousnutri.head()"
   ]
  },
  {
   "cell_type": "code",
   "execution_count": 35,
   "id": "0c67c983",
   "metadata": {},
   "outputs": [],
   "source": [
    "# Calcul de la proportion de personnes en sous alimentation par pays.\n",
    "prop_par_pays = round((popu_X_sousnutri['nbr prsn en sous alim en millions']/popu_X_sousnutri['nbr habitant en millions']) *100.2)"
   ]
  },
  {
   "cell_type": "code",
   "execution_count": 36,
   "id": "b9e01961",
   "metadata": {},
   "outputs": [
    {
     "data": {
      "text/html": [
       "<div>\n",
       "<style scoped>\n",
       "    .dataframe tbody tr th:only-of-type {\n",
       "        vertical-align: middle;\n",
       "    }\n",
       "\n",
       "    .dataframe tbody tr th {\n",
       "        vertical-align: top;\n",
       "    }\n",
       "\n",
       "    .dataframe thead th {\n",
       "        text-align: right;\n",
       "    }\n",
       "</style>\n",
       "<table border=\"1\" class=\"dataframe\">\n",
       "  <thead>\n",
       "    <tr style=\"text-align: right;\">\n",
       "      <th></th>\n",
       "      <th>pays</th>\n",
       "      <th>nbr prsn en sous alim en millions</th>\n",
       "      <th>nbr habitant en millions</th>\n",
       "      <th>prop par pays</th>\n",
       "    </tr>\n",
       "  </thead>\n",
       "  <tbody>\n",
       "    <tr>\n",
       "      <th>0</th>\n",
       "      <td>afghanistan</td>\n",
       "      <td>10500000.0</td>\n",
       "      <td>36296113.0</td>\n",
       "      <td>29.0</td>\n",
       "    </tr>\n",
       "    <tr>\n",
       "      <th>1</th>\n",
       "      <td>afrique du sud</td>\n",
       "      <td>3100000.0</td>\n",
       "      <td>57009756.0</td>\n",
       "      <td>5.0</td>\n",
       "    </tr>\n",
       "    <tr>\n",
       "      <th>2</th>\n",
       "      <td>albanie</td>\n",
       "      <td>100000.0</td>\n",
       "      <td>2884169.0</td>\n",
       "      <td>3.0</td>\n",
       "    </tr>\n",
       "    <tr>\n",
       "      <th>3</th>\n",
       "      <td>algerie</td>\n",
       "      <td>1300000.0</td>\n",
       "      <td>41389189.0</td>\n",
       "      <td>3.0</td>\n",
       "    </tr>\n",
       "    <tr>\n",
       "      <th>4</th>\n",
       "      <td>allemagne</td>\n",
       "      <td>0.0</td>\n",
       "      <td>82658409.0</td>\n",
       "      <td>0.0</td>\n",
       "    </tr>\n",
       "  </tbody>\n",
       "</table>\n",
       "</div>"
      ],
      "text/plain": [
       "             pays  nbr prsn en sous alim en millions  \\\n",
       "0     afghanistan                         10500000.0   \n",
       "1  afrique du sud                          3100000.0   \n",
       "2         albanie                           100000.0   \n",
       "3         algerie                          1300000.0   \n",
       "4       allemagne                                0.0   \n",
       "\n",
       "   nbr habitant en millions  prop par pays  \n",
       "0                36296113.0           29.0  \n",
       "1                57009756.0            5.0  \n",
       "2                 2884169.0            3.0  \n",
       "3                41389189.0            3.0  \n",
       "4                82658409.0            0.0  "
      ]
     },
     "execution_count": 36,
     "metadata": {},
     "output_type": "execute_result"
    }
   ],
   "source": [
    "# Rajout d'une colonne proportion par pays dans le data frame popuXsous_nutri.\n",
    "popu_X_sousnutri['prop par pays'] = prop_par_pays\n",
    "popu_X_sousnutri.head()"
   ]
  },
  {
   "cell_type": "code",
   "execution_count": 37,
   "id": "fb06e484",
   "metadata": {},
   "outputs": [
    {
     "data": {
      "text/html": [
       "<div>\n",
       "<style scoped>\n",
       "    .dataframe tbody tr th:only-of-type {\n",
       "        vertical-align: middle;\n",
       "    }\n",
       "\n",
       "    .dataframe tbody tr th {\n",
       "        vertical-align: top;\n",
       "    }\n",
       "\n",
       "    .dataframe thead th {\n",
       "        text-align: right;\n",
       "    }\n",
       "</style>\n",
       "<table border=\"1\" class=\"dataframe\">\n",
       "  <thead>\n",
       "    <tr style=\"text-align: right;\">\n",
       "      <th></th>\n",
       "      <th>pays</th>\n",
       "      <th>nbr prsn en sous alim en millions</th>\n",
       "      <th>nbr habitant en millions</th>\n",
       "      <th>prop par pays</th>\n",
       "    </tr>\n",
       "  </thead>\n",
       "  <tbody>\n",
       "    <tr>\n",
       "      <th>78</th>\n",
       "      <td>haiti</td>\n",
       "      <td>5300000.0</td>\n",
       "      <td>10982366.0</td>\n",
       "      <td>48.0</td>\n",
       "    </tr>\n",
       "    <tr>\n",
       "      <th>157</th>\n",
       "      <td>republique populaire democratique de coree</td>\n",
       "      <td>12000000.0</td>\n",
       "      <td>25429825.0</td>\n",
       "      <td>47.0</td>\n",
       "    </tr>\n",
       "    <tr>\n",
       "      <th>108</th>\n",
       "      <td>madagascar</td>\n",
       "      <td>10500000.0</td>\n",
       "      <td>25570512.0</td>\n",
       "      <td>41.0</td>\n",
       "    </tr>\n",
       "    <tr>\n",
       "      <th>103</th>\n",
       "      <td>liberia</td>\n",
       "      <td>1800000.0</td>\n",
       "      <td>4702226.0</td>\n",
       "      <td>38.0</td>\n",
       "    </tr>\n",
       "    <tr>\n",
       "      <th>183</th>\n",
       "      <td>tchad</td>\n",
       "      <td>5700000.0</td>\n",
       "      <td>15016753.0</td>\n",
       "      <td>38.0</td>\n",
       "    </tr>\n",
       "  </tbody>\n",
       "</table>\n",
       "</div>"
      ],
      "text/plain": [
       "                                           pays  \\\n",
       "78                                        haiti   \n",
       "157  republique populaire democratique de coree   \n",
       "108                                  madagascar   \n",
       "103                                     liberia   \n",
       "183                                       tchad   \n",
       "\n",
       "     nbr prsn en sous alim en millions  nbr habitant en millions  \\\n",
       "78                           5300000.0                10982366.0   \n",
       "157                         12000000.0                25429825.0   \n",
       "108                         10500000.0                25570512.0   \n",
       "103                          1800000.0                 4702226.0   \n",
       "183                          5700000.0                15016753.0   \n",
       "\n",
       "     prop par pays  \n",
       "78            48.0  \n",
       "157           47.0  \n",
       "108           41.0  \n",
       "103           38.0  \n",
       "183           38.0  "
      ]
     },
     "execution_count": 37,
     "metadata": {},
     "output_type": "execute_result"
    }
   ],
   "source": [
    "# Classement par ordre décroissant.\n",
    "popu_X_sousnutri = popu_X_sousnutri.sort_values(['prop par pays'], ascending=False)\n",
    "popu_X_sousnutri.head()"
   ]
  },
  {
   "cell_type": "code",
   "execution_count": 38,
   "id": "36449419",
   "metadata": {},
   "outputs": [
    {
     "data": {
      "text/html": [
       "<div>\n",
       "<style scoped>\n",
       "    .dataframe tbody tr th:only-of-type {\n",
       "        vertical-align: middle;\n",
       "    }\n",
       "\n",
       "    .dataframe tbody tr th {\n",
       "        vertical-align: top;\n",
       "    }\n",
       "\n",
       "    .dataframe thead th {\n",
       "        text-align: right;\n",
       "    }\n",
       "</style>\n",
       "<table border=\"1\" class=\"dataframe\">\n",
       "  <thead>\n",
       "    <tr style=\"text-align: right;\">\n",
       "      <th></th>\n",
       "      <th>pays</th>\n",
       "      <th>prop par pays</th>\n",
       "    </tr>\n",
       "  </thead>\n",
       "  <tbody>\n",
       "    <tr>\n",
       "      <th>78</th>\n",
       "      <td>haiti</td>\n",
       "      <td>48.0</td>\n",
       "    </tr>\n",
       "    <tr>\n",
       "      <th>157</th>\n",
       "      <td>republique populaire democratique de coree</td>\n",
       "      <td>47.0</td>\n",
       "    </tr>\n",
       "    <tr>\n",
       "      <th>108</th>\n",
       "      <td>madagascar</td>\n",
       "      <td>41.0</td>\n",
       "    </tr>\n",
       "    <tr>\n",
       "      <th>103</th>\n",
       "      <td>liberia</td>\n",
       "      <td>38.0</td>\n",
       "    </tr>\n",
       "    <tr>\n",
       "      <th>183</th>\n",
       "      <td>tchad</td>\n",
       "      <td>38.0</td>\n",
       "    </tr>\n",
       "    <tr>\n",
       "      <th>100</th>\n",
       "      <td>lesotho</td>\n",
       "      <td>38.0</td>\n",
       "    </tr>\n",
       "    <tr>\n",
       "      <th>161</th>\n",
       "      <td>rwanda</td>\n",
       "      <td>35.0</td>\n",
       "    </tr>\n",
       "    <tr>\n",
       "      <th>121</th>\n",
       "      <td>mozambique</td>\n",
       "      <td>33.0</td>\n",
       "    </tr>\n",
       "    <tr>\n",
       "      <th>186</th>\n",
       "      <td>timor_leste</td>\n",
       "      <td>32.0</td>\n",
       "    </tr>\n",
       "    <tr>\n",
       "      <th>0</th>\n",
       "      <td>afghanistan</td>\n",
       "      <td>29.0</td>\n",
       "    </tr>\n",
       "    <tr>\n",
       "      <th>198</th>\n",
       "      <td>venezuela (republique bolivarienne du)</td>\n",
       "      <td>27.0</td>\n",
       "    </tr>\n",
       "    <tr>\n",
       "      <th>171</th>\n",
       "      <td>sierra leone</td>\n",
       "      <td>27.0</td>\n",
       "    </tr>\n",
       "    <tr>\n",
       "      <th>44</th>\n",
       "      <td>congo</td>\n",
       "      <td>27.0</td>\n",
       "    </tr>\n",
       "    <tr>\n",
       "      <th>158</th>\n",
       "      <td>republique_unie de tanzanie</td>\n",
       "      <td>25.0</td>\n",
       "    </tr>\n",
       "    <tr>\n",
       "      <th>87</th>\n",
       "      <td>iraq</td>\n",
       "      <td>24.0</td>\n",
       "    </tr>\n",
       "    <tr>\n",
       "      <th>96</th>\n",
       "      <td>kenya</td>\n",
       "      <td>24.0</td>\n",
       "    </tr>\n",
       "    <tr>\n",
       "      <th>26</th>\n",
       "      <td>botswana</td>\n",
       "      <td>23.0</td>\n",
       "    </tr>\n",
       "    <tr>\n",
       "      <th>187</th>\n",
       "      <td>togo</td>\n",
       "      <td>21.0</td>\n",
       "    </tr>\n",
       "    <tr>\n",
       "      <th>61</th>\n",
       "      <td>éthiopie</td>\n",
       "      <td>20.0</td>\n",
       "    </tr>\n",
       "    <tr>\n",
       "      <th>46</th>\n",
       "      <td>cote d_ivoire</td>\n",
       "      <td>20.0</td>\n",
       "    </tr>\n",
       "  </tbody>\n",
       "</table>\n",
       "</div>"
      ],
      "text/plain": [
       "                                           pays  prop par pays\n",
       "78                                        haiti           48.0\n",
       "157  republique populaire democratique de coree           47.0\n",
       "108                                  madagascar           41.0\n",
       "103                                     liberia           38.0\n",
       "183                                       tchad           38.0\n",
       "100                                     lesotho           38.0\n",
       "161                                      rwanda           35.0\n",
       "121                                  mozambique           33.0\n",
       "186                                 timor_leste           32.0\n",
       "0                                   afghanistan           29.0\n",
       "198      venezuela (republique bolivarienne du)           27.0\n",
       "171                                sierra leone           27.0\n",
       "44                                        congo           27.0\n",
       "158                 republique_unie de tanzanie           25.0\n",
       "87                                         iraq           24.0\n",
       "96                                        kenya           24.0\n",
       "26                                     botswana           23.0\n",
       "187                                        togo           21.0\n",
       "61                                     éthiopie           20.0\n",
       "46                                cote d_ivoire           20.0"
      ]
     },
     "execution_count": 38,
     "metadata": {},
     "output_type": "execute_result"
    }
   ],
   "source": [
    "# Etablissement d'un tableau avec uniquement les colonnes pays et proportion par pays et sortir les 20 premieres lignes.\n",
    "top20_pays_sousnutri = popu_X_sousnutri[['pays','prop par pays']].head(20)\n",
    "top20_pays_sousnutri"
   ]
  },
  {
   "cell_type": "code",
   "execution_count": 39,
   "id": "a99cd368",
   "metadata": {},
   "outputs": [
    {
     "data": {
      "text/plain": [
       "[48.0,\n",
       " 47.0,\n",
       " 41.0,\n",
       " 38.0,\n",
       " 38.0,\n",
       " 38.0,\n",
       " 35.0,\n",
       " 33.0,\n",
       " 32.0,\n",
       " 29.0,\n",
       " 27.0,\n",
       " 27.0,\n",
       " 27.0,\n",
       " 25.0,\n",
       " 24.0,\n",
       " 24.0,\n",
       " 23.0,\n",
       " 21.0,\n",
       " 20.0,\n",
       " 20.0]"
      ]
     },
     "execution_count": 39,
     "metadata": {},
     "output_type": "execute_result"
    }
   ],
   "source": [
    "top20_pays_sousnutri['prop par pays'].tolist()"
   ]
  },
  {
   "cell_type": "code",
   "execution_count": 40,
   "id": "50095a0a",
   "metadata": {
    "scrolled": false
   },
   "outputs": [
    {
     "data": {
      "image/png": "[encoded data removed]",
      "text/plain": [
       "<Figure size 720x504 with 1 Axes>"
      ]
     },
     "metadata": {
      "needs_background": "light"
     },
     "output_type": "display_data"
    }
   ],
   "source": [
    "Liste = [48,47,41,38,38,38,35,33,32,29,27,27,27,25,24,24,23,21,20,20] \n",
    "# Arrangement des nom de pays pour que le graphique suivant soit plus lisible.\n",
    "top20_pays_sousnutri['pays'] = top20_pays_sousnutri['pays'].str.replace(\"republique populaire democratique de coree\",\"rpd coree\")\n",
    "top20_pays_sousnutri['pays'] = top20_pays_sousnutri['pays'].str.replace(\"republique_unie de tanzanie\",\"tanzanie\")\n",
    "top20_pays_sousnutri['pays'] = top20_pays_sousnutri['pays'].str.replace(\"venezuela republique bolivarienne du\",\"venezuela\")\n",
    "plt.show()\n",
    "# Etablissement d'un diagramme montrant les 20 pays où la proportion des personnes en sous nutrition est la plus élevé en 2017\n",
    "plt.figure(figsize=(10,7))\n",
    "sns.barplot(y=top20_pays_sousnutri['prop par pays'], x= top20_pays_sousnutri['pays'] ,palette=\"Blues_r\")\n",
    "plt.xlabel('Pays', fontsize=15)\n",
    "plt.ylabel(\"Proportion en %\", fontsize=15)\n",
    "plt.title(\"Les 20 pays où la porportion des personnes en sous alimentation est la plus élevé en 2017\" , fontsize=16,\n",
    "          fontdict={'family':'serif','color' : 'darkblue','weight' : 'bold', 'size' : 30})\n",
    "plt.xticks(rotation= 60)\n",
    "i = 0\n",
    "j = 1\n",
    "for i in range(len(top20_pays_sousnutri)):\n",
    "    plt.annotate(Liste[i], ( i, Liste[i] + j), ha=\"center\")\n",
    "plt.tight_layout()\n"
   ]
  },
  {
   "cell_type": "markdown",
   "id": "91c2382c",
   "metadata": {},
   "source": [
    "### Mélanie nous a demander ensuite de lui donner les pays qui ont le plus bénéficié d’aide alimentaire depuis 2013"
   ]
  },
  {
   "cell_type": "code",
   "execution_count": 41,
   "id": "284ddcb4",
   "metadata": {
    "scrolled": false
   },
   "outputs": [
    {
     "data": {
      "text/html": [
       "<div>\n",
       "<style scoped>\n",
       "    .dataframe tbody tr th:only-of-type {\n",
       "        vertical-align: middle;\n",
       "    }\n",
       "\n",
       "    .dataframe tbody tr th {\n",
       "        vertical-align: top;\n",
       "    }\n",
       "\n",
       "    .dataframe thead th {\n",
       "        text-align: right;\n",
       "    }\n",
       "</style>\n",
       "<table border=\"1\" class=\"dataframe\">\n",
       "  <thead>\n",
       "    <tr style=\"text-align: right;\">\n",
       "      <th></th>\n",
       "      <th>pays</th>\n",
       "      <th>annee</th>\n",
       "      <th>produit</th>\n",
       "      <th>quantite acquis en kg</th>\n",
       "    </tr>\n",
       "  </thead>\n",
       "  <tbody>\n",
       "    <tr>\n",
       "      <th>0</th>\n",
       "      <td>afghanistan</td>\n",
       "      <td>2013</td>\n",
       "      <td>autres non_cereales</td>\n",
       "      <td>682000</td>\n",
       "    </tr>\n",
       "    <tr>\n",
       "      <th>1</th>\n",
       "      <td>afghanistan</td>\n",
       "      <td>2014</td>\n",
       "      <td>autres non_cereales</td>\n",
       "      <td>335000</td>\n",
       "    </tr>\n",
       "    <tr>\n",
       "      <th>2</th>\n",
       "      <td>afghanistan</td>\n",
       "      <td>2013</td>\n",
       "      <td>ble et farin</td>\n",
       "      <td>39224000</td>\n",
       "    </tr>\n",
       "    <tr>\n",
       "      <th>3</th>\n",
       "      <td>afghanistan</td>\n",
       "      <td>2014</td>\n",
       "      <td>ble et farin</td>\n",
       "      <td>15160000</td>\n",
       "    </tr>\n",
       "    <tr>\n",
       "      <th>4</th>\n",
       "      <td>afghanistan</td>\n",
       "      <td>2013</td>\n",
       "      <td>cereales</td>\n",
       "      <td>40504000</td>\n",
       "    </tr>\n",
       "  </tbody>\n",
       "</table>\n",
       "</div>"
      ],
      "text/plain": [
       "          pays  annee              produit  quantite acquis en kg\n",
       "0  afghanistan   2013  autres non_cereales                 682000\n",
       "1  afghanistan   2014  autres non_cereales                 335000\n",
       "2  afghanistan   2013         ble et farin               39224000\n",
       "3  afghanistan   2014         ble et farin               15160000\n",
       "4  afghanistan   2013             cereales               40504000"
      ]
     },
     "execution_count": 41,
     "metadata": {},
     "output_type": "execute_result"
    }
   ],
   "source": [
    "aide_alim.head()"
   ]
  },
  {
   "cell_type": "markdown",
   "id": "4f1a500c",
   "metadata": {},
   "source": [
    "Pour trouver le nombre de fois qu'un pays a bénéficier d'aide alimentaire, il suffit de calculer le nombre de fois que celui ci apparrait dans le dataframe depuis 2013."
   ]
  },
  {
   "cell_type": "code",
   "execution_count": 42,
   "id": "b80d3d9b",
   "metadata": {
    "scrolled": true
   },
   "outputs": [
    {
     "data": {
      "text/html": [
       "<div>\n",
       "<style scoped>\n",
       "    .dataframe tbody tr th:only-of-type {\n",
       "        vertical-align: middle;\n",
       "    }\n",
       "\n",
       "    .dataframe tbody tr th {\n",
       "        vertical-align: top;\n",
       "    }\n",
       "\n",
       "    .dataframe thead th {\n",
       "        text-align: right;\n",
       "    }\n",
       "</style>\n",
       "<table border=\"1\" class=\"dataframe\">\n",
       "  <thead>\n",
       "    <tr style=\"text-align: right;\">\n",
       "      <th></th>\n",
       "      <th>annee</th>\n",
       "      <th>quantite acquis en kg</th>\n",
       "    </tr>\n",
       "    <tr>\n",
       "      <th>pays</th>\n",
       "      <th></th>\n",
       "      <th></th>\n",
       "    </tr>\n",
       "  </thead>\n",
       "  <tbody>\n",
       "    <tr>\n",
       "      <th>republique arabe syrienne</th>\n",
       "      <td>76543</td>\n",
       "      <td>1858943000</td>\n",
       "    </tr>\n",
       "    <tr>\n",
       "      <th>éthiopie</th>\n",
       "      <td>66460</td>\n",
       "      <td>1381294000</td>\n",
       "    </tr>\n",
       "    <tr>\n",
       "      <th>yemen</th>\n",
       "      <td>76553</td>\n",
       "      <td>1206484000</td>\n",
       "    </tr>\n",
       "    <tr>\n",
       "      <th>soudan du sud</th>\n",
       "      <td>44309</td>\n",
       "      <td>695248000</td>\n",
       "    </tr>\n",
       "    <tr>\n",
       "      <th>soudan</th>\n",
       "      <td>48335</td>\n",
       "      <td>669784000</td>\n",
       "    </tr>\n",
       "    <tr>\n",
       "      <th>kenya</th>\n",
       "      <td>54376</td>\n",
       "      <td>552836000</td>\n",
       "    </tr>\n",
       "    <tr>\n",
       "      <th>bangladesh</th>\n",
       "      <td>50347</td>\n",
       "      <td>348188000</td>\n",
       "    </tr>\n",
       "    <tr>\n",
       "      <th>somalie</th>\n",
       "      <td>54377</td>\n",
       "      <td>292678000</td>\n",
       "    </tr>\n",
       "    <tr>\n",
       "      <th>republique democratique du congo</th>\n",
       "      <td>50350</td>\n",
       "      <td>288502000</td>\n",
       "    </tr>\n",
       "    <tr>\n",
       "      <th>niger</th>\n",
       "      <td>62448</td>\n",
       "      <td>276344000</td>\n",
       "    </tr>\n",
       "  </tbody>\n",
       "</table>\n",
       "</div>"
      ],
      "text/plain": [
       "                                  annee  quantite acquis en kg\n",
       "pays                                                          \n",
       "republique arabe syrienne         76543             1858943000\n",
       "éthiopie                          66460             1381294000\n",
       "yemen                             76553             1206484000\n",
       "soudan du sud                     44309              695248000\n",
       "soudan                            48335              669784000\n",
       "kenya                             54376              552836000\n",
       "bangladesh                        50347              348188000\n",
       "somalie                           54377              292678000\n",
       "republique democratique du congo  50350              288502000\n",
       "niger                             62448              276344000"
      ]
     },
     "execution_count": 42,
     "metadata": {},
     "output_type": "execute_result"
    }
   ],
   "source": [
    "# Somme de la quantité acquis en kg par pays et classement par ordre décroissant\n",
    "quant_aide_alim_pp = aide_alim.groupby(['pays']).sum().sort_values(by='quantite acquis en kg',ascending=False).head(10)\n",
    "quant_aide_alim_pp"
   ]
  },
  {
   "cell_type": "code",
   "execution_count": 43,
   "id": "9c156bd4",
   "metadata": {},
   "outputs": [
    {
     "data": {
      "image/png": "[encoded data removed]",
      "text/plain": [
       "<Figure size 1440x504 with 1 Axes>"
      ]
     },
     "metadata": {
      "needs_background": "light"
     },
     "output_type": "display_data"
    }
   ],
   "source": [
    "Pays = ('RA syrienne','éthiopie','yemen','soudan du sud','soudan','kenya','bangladesh','somalie','RD congo','niger')\n",
    "Valeur = (1858943000,1381294000,1206484000,695248000,669784000,552836000,348188000,292678000,288502000,276344000)    \n",
    "plt.figure(figsize=(20,7))\n",
    "plt.bar(Pays,Valeur,width=0.7)\n",
    "plt.title(\"Les 10 pays qui ont bénéficié le plus d'aide depuis 2013\" , fontsize=16,\n",
    "         fontdict={'family':'serif','color' : 'darkblue','weight' : 'bold', 'size' : 30}) \n",
    "plt.xlabel('Pays', fontsize=15) \n",
    "plt.ylabel(\"quantité en milliard de kg\", fontsize=15) \n",
    "i = 0\n",
    "j = 1\n",
    "for i in range(len(quant_aide_alim_pp)):\n",
    "    plt.annotate(Valeur[i], ( i, Valeur[i] + j), ha=\"center\")\n",
    "\n",
    "plt.show()\n"
   ]
  },
  {
   "cell_type": "markdown",
   "id": "e5a01a5a",
   "metadata": {},
   "source": [
    "### Question II - Nombre théorique de personnes qui pourraient être nourries"
   ]
  },
  {
   "cell_type": "markdown",
   "id": "f19786e1",
   "metadata": {},
   "source": [
    "Pour calculer le nombre théorique de personnes pouvant être nourries nous devons tous d'abord calculer la disponibilité alimentaire mondiale.\n",
    "\n",
    "Et a partir de la disponibilité alimentaire mondiale, on calcul le nombre théorique de personnes pouvant etre nourrie en 2017 dans le monde."
   ]
  },
  {
   "cell_type": "code",
   "execution_count": 44,
   "id": "13f5a967",
   "metadata": {
    "scrolled": true
   },
   "outputs": [
    {
     "data": {
      "text/html": [
       "<div>\n",
       "<style scoped>\n",
       "    .dataframe tbody tr th:only-of-type {\n",
       "        vertical-align: middle;\n",
       "    }\n",
       "\n",
       "    .dataframe tbody tr th {\n",
       "        vertical-align: top;\n",
       "    }\n",
       "\n",
       "    .dataframe thead th {\n",
       "        text-align: right;\n",
       "    }\n",
       "</style>\n",
       "<table border=\"1\" class=\"dataframe\">\n",
       "  <thead>\n",
       "    <tr style=\"text-align: right;\">\n",
       "      <th></th>\n",
       "      <th>pays</th>\n",
       "      <th>produit</th>\n",
       "      <th>origine</th>\n",
       "      <th>aliments pour animaux</th>\n",
       "      <th>autres utilisations</th>\n",
       "      <th>disponibilite alimentaire (cal/personne/jour)</th>\n",
       "      <th>disponibilite alimentaire en quantite (kg/personne/an)</th>\n",
       "      <th>disponibilite de matiere grasse en quantite (g/personne/jour)</th>\n",
       "      <th>disponibilite de proteines en quantite (g/personne/jour)</th>\n",
       "      <th>disponibilite interieure</th>\n",
       "      <th>exportations _ quantite</th>\n",
       "      <th>importations _ quantite</th>\n",
       "      <th>nourriture</th>\n",
       "      <th>pertes</th>\n",
       "      <th>production</th>\n",
       "      <th>semences</th>\n",
       "      <th>traitement</th>\n",
       "      <th>variation de stock</th>\n",
       "      <th>nbr habitant en millions</th>\n",
       "    </tr>\n",
       "  </thead>\n",
       "  <tbody>\n",
       "    <tr>\n",
       "      <th>0</th>\n",
       "      <td>afghanistan</td>\n",
       "      <td>abats comestible</td>\n",
       "      <td>animale</td>\n",
       "      <td>0.0</td>\n",
       "      <td>0.0</td>\n",
       "      <td>5.0</td>\n",
       "      <td>1.72</td>\n",
       "      <td>0.20</td>\n",
       "      <td>0.77</td>\n",
       "      <td>53000000.0</td>\n",
       "      <td>0.0</td>\n",
       "      <td>0.0</td>\n",
       "      <td>53000000.0</td>\n",
       "      <td>0.0</td>\n",
       "      <td>53000000.0</td>\n",
       "      <td>0.0</td>\n",
       "      <td>0.0</td>\n",
       "      <td>0.0</td>\n",
       "      <td>36296113.0</td>\n",
       "    </tr>\n",
       "    <tr>\n",
       "      <th>1</th>\n",
       "      <td>afghanistan</td>\n",
       "      <td>agrumes, autres</td>\n",
       "      <td>vegetale</td>\n",
       "      <td>0.0</td>\n",
       "      <td>0.0</td>\n",
       "      <td>1.0</td>\n",
       "      <td>1.29</td>\n",
       "      <td>0.01</td>\n",
       "      <td>0.02</td>\n",
       "      <td>41000000.0</td>\n",
       "      <td>2000000.0</td>\n",
       "      <td>40000000.0</td>\n",
       "      <td>39000000.0</td>\n",
       "      <td>2000000.0</td>\n",
       "      <td>3000000.0</td>\n",
       "      <td>0.0</td>\n",
       "      <td>0.0</td>\n",
       "      <td>0.0</td>\n",
       "      <td>36296113.0</td>\n",
       "    </tr>\n",
       "    <tr>\n",
       "      <th>2</th>\n",
       "      <td>afghanistan</td>\n",
       "      <td>aliments pour enfants</td>\n",
       "      <td>vegetale</td>\n",
       "      <td>0.0</td>\n",
       "      <td>0.0</td>\n",
       "      <td>1.0</td>\n",
       "      <td>0.06</td>\n",
       "      <td>0.01</td>\n",
       "      <td>0.03</td>\n",
       "      <td>2000000.0</td>\n",
       "      <td>0.0</td>\n",
       "      <td>2000000.0</td>\n",
       "      <td>2000000.0</td>\n",
       "      <td>0.0</td>\n",
       "      <td>0.0</td>\n",
       "      <td>0.0</td>\n",
       "      <td>0.0</td>\n",
       "      <td>0.0</td>\n",
       "      <td>36296113.0</td>\n",
       "    </tr>\n",
       "    <tr>\n",
       "      <th>3</th>\n",
       "      <td>afghanistan</td>\n",
       "      <td>ananas</td>\n",
       "      <td>vegetale</td>\n",
       "      <td>0.0</td>\n",
       "      <td>0.0</td>\n",
       "      <td>0.0</td>\n",
       "      <td>0.00</td>\n",
       "      <td>0.00</td>\n",
       "      <td>0.00</td>\n",
       "      <td>0.0</td>\n",
       "      <td>0.0</td>\n",
       "      <td>0.0</td>\n",
       "      <td>0.0</td>\n",
       "      <td>0.0</td>\n",
       "      <td>0.0</td>\n",
       "      <td>0.0</td>\n",
       "      <td>0.0</td>\n",
       "      <td>0.0</td>\n",
       "      <td>36296113.0</td>\n",
       "    </tr>\n",
       "    <tr>\n",
       "      <th>4</th>\n",
       "      <td>afghanistan</td>\n",
       "      <td>bananes</td>\n",
       "      <td>vegetale</td>\n",
       "      <td>0.0</td>\n",
       "      <td>0.0</td>\n",
       "      <td>4.0</td>\n",
       "      <td>2.70</td>\n",
       "      <td>0.02</td>\n",
       "      <td>0.05</td>\n",
       "      <td>82000000.0</td>\n",
       "      <td>0.0</td>\n",
       "      <td>82000000.0</td>\n",
       "      <td>82000000.0</td>\n",
       "      <td>0.0</td>\n",
       "      <td>0.0</td>\n",
       "      <td>0.0</td>\n",
       "      <td>0.0</td>\n",
       "      <td>0.0</td>\n",
       "      <td>36296113.0</td>\n",
       "    </tr>\n",
       "  </tbody>\n",
       "</table>\n",
       "</div>"
      ],
      "text/plain": [
       "          pays                produit   origine  aliments pour animaux  \\\n",
       "0  afghanistan       abats comestible   animale                    0.0   \n",
       "1  afghanistan        agrumes, autres  vegetale                    0.0   \n",
       "2  afghanistan  aliments pour enfants  vegetale                    0.0   \n",
       "3  afghanistan                 ananas  vegetale                    0.0   \n",
       "4  afghanistan                bananes  vegetale                    0.0   \n",
       "\n",
       "   autres utilisations  disponibilite alimentaire (cal/personne/jour)  \\\n",
       "0                  0.0                                            5.0   \n",
       "1                  0.0                                            1.0   \n",
       "2                  0.0                                            1.0   \n",
       "3                  0.0                                            0.0   \n",
       "4                  0.0                                            4.0   \n",
       "\n",
       "   disponibilite alimentaire en quantite (kg/personne/an)  \\\n",
       "0                                               1.72        \n",
       "1                                               1.29        \n",
       "2                                               0.06        \n",
       "3                                               0.00        \n",
       "4                                               2.70        \n",
       "\n",
       "   disponibilite de matiere grasse en quantite (g/personne/jour)  \\\n",
       "0                                               0.20               \n",
       "1                                               0.01               \n",
       "2                                               0.01               \n",
       "3                                               0.00               \n",
       "4                                               0.02               \n",
       "\n",
       "   disponibilite de proteines en quantite (g/personne/jour)  \\\n",
       "0                                               0.77          \n",
       "1                                               0.02          \n",
       "2                                               0.03          \n",
       "3                                               0.00          \n",
       "4                                               0.05          \n",
       "\n",
       "   disponibilite interieure  exportations _ quantite  importations _ quantite  \\\n",
       "0                53000000.0                      0.0                      0.0   \n",
       "1                41000000.0                2000000.0               40000000.0   \n",
       "2                 2000000.0                      0.0                2000000.0   \n",
       "3                       0.0                      0.0                      0.0   \n",
       "4                82000000.0                      0.0               82000000.0   \n",
       "\n",
       "   nourriture     pertes  production  semences  traitement  \\\n",
       "0  53000000.0        0.0  53000000.0       0.0         0.0   \n",
       "1  39000000.0  2000000.0   3000000.0       0.0         0.0   \n",
       "2   2000000.0        0.0         0.0       0.0         0.0   \n",
       "3         0.0        0.0         0.0       0.0         0.0   \n",
       "4  82000000.0        0.0         0.0       0.0         0.0   \n",
       "\n",
       "   variation de stock  nbr habitant en millions  \n",
       "0                 0.0                36296113.0  \n",
       "1                 0.0                36296113.0  \n",
       "2                 0.0                36296113.0  \n",
       "3                 0.0                36296113.0  \n",
       "4                 0.0                36296113.0  "
      ]
     },
     "execution_count": 44,
     "metadata": {},
     "output_type": "execute_result"
    }
   ],
   "source": [
    "# Jointure a gauche entre les dataframes dispo_alim et population_2017 (df1) avec comme clé commune pays\n",
    "dispo_popula = pd.merge(dispo_alim, popula.loc[popula['annee']==2017,['pays','nbr habitant en millions']], on='pays', how='left')\n",
    "dispo_popula.head()\n",
    "\n"
   ]
  },
  {
   "cell_type": "code",
   "execution_count": 45,
   "id": "02b670a7",
   "metadata": {},
   "outputs": [
    {
     "name": "stdout",
     "output_type": "stream",
     "text": [
      "la disponibilité alimentaire mondiale en 2017 est de 7635429388975815.0 cal\n"
     ]
    }
   ],
   "source": [
    "# Calcul de la disponibilité alimentaire mondiale \n",
    "dispo_alim_mondiale = ((dispo_popula['disponibilite alimentaire (cal/personne/jour)'])*(dispo_popula['nbr habitant en millions'])*365)\n",
    "print('la disponibilité alimentaire mondiale en 2017 est de ' + str(dispo_alim_mondiale.sum()) + ' cal')\n"
   ]
  },
  {
   "cell_type": "markdown",
   "id": "f18343f0",
   "metadata": {},
   "source": [
    "On sais qu'en moyenne une personne 2500 calories par jour. \n",
    "\n",
    "Maintenant que nous avons cette donné nous pouvons calculer le nombre théorique de personne pouvant etre nourris."
   ]
  },
  {
   "cell_type": "code",
   "execution_count": 46,
   "id": "60a76a78",
   "metadata": {},
   "outputs": [
    {
     "name": "stdout",
     "output_type": "stream",
     "text": [
      "Le nombre théorique de personnes pouvant etre nourris dans le monde en 2017 est de 8367593851 personnes\n"
     ]
    }
   ],
   "source": [
    "# Calcul du nombre théorique de personnes pouvant etre nourris dans le monde\n",
    "nombre_theorique_prsn_nourri = dispo_alim_mondiale.sum()/(2500*365)\n",
    "print('Le nombre théorique de personnes pouvant etre nourris dans le monde en 2017 est de ' + str(\"{:.0f}\".format(nombre_theorique_prsn_nourri)) \n",
    "      + ' personnes') "
   ]
  },
  {
   "cell_type": "code",
   "execution_count": 47,
   "id": "9a6bcb48",
   "metadata": {},
   "outputs": [
    {
     "name": "stdout",
     "output_type": "stream",
     "text": [
      "La proportion du nombre de personnes pouvant etre nourris dans le monde en 2017 est de 110.92 %.\n"
     ]
    }
   ],
   "source": [
    "# Calcul de la proportion de personne pouvant etre nourris dans le monde\n",
    "prop_nbr_prs_nouris = ((nombre_theorique_prsn_nourri)*100/population_mondiale_2017)\n",
    "print('La proportion du nombre de personnes pouvant etre nourris dans le monde en 2017 est de '+ str(\"{:.2f}\".format(prop_nbr_prs_nouris)) + ' %.')"
   ]
  },
  {
   "cell_type": "code",
   "execution_count": 48,
   "id": "698d32d4",
   "metadata": {},
   "outputs": [
    {
     "data": {
      "image/png": "[encoded data removed]",
      "text/plain": [
       "<Figure size 648x648 with 1 Axes>"
      ]
     },
     "metadata": {
      "needs_background": "light"
     },
     "output_type": "display_data"
    }
   ],
   "source": [
    "pop = [round(population_mondiale_2017)]\n",
    "x2 = [\"Population totale\"]\n",
    "x3 = [\"Population pouvant etre nourries\"]\n",
    "popu_pouvant_nourrie = [round(nombre_theorique_prsn_nourri)]\n",
    "\n",
    "plt.figure(figsize=(9,9))\n",
    "plt.bar(x2, pop,  width= 1)\n",
    "plt.bar(x3, popu_pouvant_nourrie, width= 1)\n",
    "plt.title(\"Nombre de personnes pouvant etre nourries\", pad=(20),\n",
    "          fontdict={'family': 'serif', \n",
    "                    'color' : 'black',\n",
    "                    'weight': 'bold',\n",
    "                    'size': 18});\n",
    "i = 0\n",
    "j = 1\n",
    "# Annotating the bar plot with the values (proportion sous-nut)\n",
    "for i in range(len(x2)):\n",
    "    plt.annotate(pop[i], ( i, pop[i] + j), ha=\"center\")\n",
    "i = 0\n",
    "j = 1\n",
    "for i in range(len(x3)):\n",
    "    plt.annotate(popu_pouvant_nourrie[i], ( j, popu_pouvant_nourrie[i] + j), ha=\"center\")\n",
    "\n",
    "\n",
    "plt.ylabel(\"Nombre de personnes\")\n",
    "plt.show()"
   ]
  },
  {
   "cell_type": "markdown",
   "id": "8d903418",
   "metadata": {},
   "source": [
    "### Question III - Le nombre théorique de personnes pouvant etre nourries a partir d'aliments d'origine végétales"
   ]
  },
  {
   "cell_type": "code",
   "execution_count": 49,
   "id": "8a83114a",
   "metadata": {},
   "outputs": [],
   "source": [
    "# On veux uniquement les données de dispo_popula où l'origine du produit est végétale\n",
    "df3 = dispo_popula.loc[dispo_popula['origine'] == 'vegetale']"
   ]
  },
  {
   "cell_type": "code",
   "execution_count": 50,
   "id": "903673be",
   "metadata": {},
   "outputs": [
    {
     "name": "stdout",
     "output_type": "stream",
     "text": [
      "la disponibilité alimentaire dorigine végétales mondiale en 2017 est de 6300178937197865.0 cal\n"
     ]
    }
   ],
   "source": [
    "# Calcul de la disponibilité alimentaire d'origine végétale mondiale.\n",
    "dispo_alim_monde_veg = df3['disponibilite alimentaire (cal/personne/jour)']*365  * df3['nbr habitant en millions']\n",
    "dispo_alim_monde_veg = dispo_alim_monde_veg.sum()\n",
    "print('la disponibilité alimentaire dorigine végétales mondiale en 2017 est de ' + str(dispo_alim_monde_veg) + ' cal')"
   ]
  },
  {
   "cell_type": "code",
   "execution_count": 51,
   "id": "8bf2b647",
   "metadata": {},
   "outputs": [
    {
     "name": "stdout",
     "output_type": "stream",
     "text": [
      "Le nombre théorique de personnes pouvant etre nourris dans le monde en 2017 a l aide des aliments d origine vegetales            est de 6904305685 personnes\n"
     ]
    }
   ],
   "source": [
    "# Calcul du nombre de personne pouvant etre nourris avec les aliments d'origine végétale.\n",
    "nombre_theorique_prsn_nourri_veg = round(dispo_alim_monde_veg/(2500*365))\n",
    "print('Le nombre théorique de personnes pouvant etre nourris dans le monde en 2017 a l aide des aliments d origine vegetales            est de ' + str(nombre_theorique_prsn_nourri_veg) \n",
    "      + ' personnes') "
   ]
  },
  {
   "cell_type": "code",
   "execution_count": 52,
   "id": "f75ce9a4",
   "metadata": {},
   "outputs": [
    {
     "name": "stdout",
     "output_type": "stream",
     "text": [
      "La proportion du nombre de personnes pouvant etre nourris dans le monde avec des produits d origine végétales en 2017 est de   91.52 %.\n"
     ]
    }
   ],
   "source": [
    "# Calcul de la proportion des personnes pouvant etre nourris avec les aliments d'origine végétale.\n",
    "prop_nbr_prs_nouris_veg = \"{:.2f}\".format(((nombre_theorique_prsn_nourri_veg)/population_mondiale_2017)*100)\n",
    "print('La proportion du nombre de personnes pouvant etre nourris dans le monde avec des produits d origine végétales en 2017 est de   '+ str((prop_nbr_prs_nouris_veg)) + ' %.')"
   ]
  },
  {
   "cell_type": "code",
   "execution_count": 53,
   "id": "106acf9d",
   "metadata": {
    "scrolled": false
   },
   "outputs": [
    {
     "data": {
      "image/png": "[encoded data removed]",
      "text/plain": [
       "<Figure size 1080x720 with 1 Axes>"
      ]
     },
     "metadata": {
      "needs_background": "light"
     },
     "output_type": "display_data"
    }
   ],
   "source": [
    "pop = [round(population_mondiale_2017)]\n",
    "x2 = [\"Population totale\"]\n",
    "x3 = [\"Population pouvant etre nourries avec aliments origine végétales.\"]\n",
    "popu_pouvant_nourrie_veg = [nombre_theorique_prsn_nourri_veg]\n",
    "\n",
    "plt.figure(figsize=(15,10))\n",
    "plt.bar(x2, pop,  width= 1)\n",
    "plt.bar(x3, popu_pouvant_nourrie_veg, width= 1)\n",
    "plt.title(\"Population pouvant etre nourries avec aliments origine végétales.\", pad=(20),\n",
    "          fontdict={'family': 'serif', \n",
    "                    'color' : 'black',\n",
    "                    'weight': 'bold',\n",
    "                    'size': 18});\n",
    "i = 0\n",
    "j = 1\n",
    "# Annotating the bar plot with the values (proportion sous-nut)\n",
    "for i in range(len(x2)):\n",
    "    plt.annotate(pop[i], ( i, pop[i] + j), ha=\"center\")\n",
    "i = 0\n",
    "j = 1\n",
    "for i in range(len(x3)):\n",
    "    plt.annotate(popu_pouvant_nourrie_veg[i], ( j, popu_pouvant_nourrie_veg[i] + j), ha=\"center\")\n",
    "\n",
    "\n",
    "\n",
    "plt.ylabel(\"Nombre de personnes\")\n",
    "plt.show()"
   ]
  },
  {
   "cell_type": "markdown",
   "id": "6fbbb2e0",
   "metadata": {},
   "source": [
    "### Question IV - L'utilisation de la disponibilité interieure\n"
   ]
  },
  {
   "cell_type": "markdown",
   "id": "da260345",
   "metadata": {},
   "source": [
    "On remarque la presence d'un lien logique entre les 10 variables quantitative du dataframe dispo_alim qui ce presente sous la forme d'une équation :\n",
    "\n",
    "Semences + nourriture + perte + autre utilisation + aliments pour animaux + traitement = Disponibilité intérieure = Production + Importations - Exportations + Variation des stocks\n",
    " \n"
   ]
  },
  {
   "cell_type": "code",
   "execution_count": 54,
   "id": "8dcf321c",
   "metadata": {
    "scrolled": true
   },
   "outputs": [
    {
     "name": "stdout",
     "output_type": "stream",
     "text": [
      "La part attribué à : aliments pour animaux est : 13.24 %\n",
      "La part attribué à : nourriture est : 49.51 %\n",
      "La part attribué à : pertes est : 4.61 %\n",
      "La part attribué à : autres utilisations est : 8.78 %\n",
      "La part attribué à : semences est : 1.57 %\n",
      "La part attribué à : traitement est : 22.38 %\n"
     ]
    }
   ],
   "source": [
    "# Grâce a la boucle for , je vais calculer les differentes part de l'utilisation de la disponibilité intérieure  \n",
    "colonne = ['aliments pour animaux','nourriture','pertes','autres utilisations','semences','traitement']\n",
    "\n",
    "for x in colonne:\n",
    "    print('La part attribué à : '+ x + ' est : ' + str(\"{:.2f}\".format((dispo_alim[x].sum()/dispo_alim['disponibilite interieure'].sum())*100)) + ' %')\n",
    "    "
   ]
  },
  {
   "cell_type": "code",
   "execution_count": 55,
   "id": "6674fd75",
   "metadata": {},
   "outputs": [
    {
     "data": {
      "image/png": "[encoded data removed]",
      "text/plain": [
       "<Figure size 648x648 with 1 Axes>"
      ]
     },
     "metadata": {},
     "output_type": "display_data"
    }
   ],
   "source": [
    "# Representation graphique des part de l'utilisation de la disponibilité intérieure en 2017\n",
    "plt.figure(figsize=(9,9))\n",
    "x = [13.24 ,49.51 ,4.61 ,8.78 ,1.57 ,22.38]\n",
    "plt.pie(x, labels = ['aliment pour animaux', 'nourriture', 'pertes', 'autres utilisations','semences','traitement'],\n",
    "        normalize = True,\n",
    "        autopct = lambda x: str(round(x,2)) + '%')\n",
    "plt.title('Les differentes part de l utilisation de la disponibilité intérieure en 2017 ',\n",
    "                fontdict={'family':'serif',\n",
    "                    'color' : 'darkblue',\n",
    "                    'weight' : 'bold',\n",
    "                    'size' : 18})              \n",
    "\n",
    "plt.show()"
   ]
  },
  {
   "cell_type": "markdown",
   "id": "784c7763",
   "metadata": {},
   "source": [
    "### Question V - Etude de la répartion des céréales entre l'alimentation humaine et animal"
   ]
  },
  {
   "cell_type": "markdown",
   "id": "e165ea19",
   "metadata": {},
   "source": [
    "Afin de repondre à cette question, nous allons d'abord chercher la liste des differents types de céréales dans le nouveau data frame importer à partir du site de la FAO."
   ]
  },
  {
   "cell_type": "code",
   "execution_count": 56,
   "id": "17eae5f3",
   "metadata": {},
   "outputs": [],
   "source": [
    "# Importation du nouveau dataframe\n",
    "cereales = pd.read_csv('liste_cereales2.csv')"
   ]
  },
  {
   "cell_type": "code",
   "execution_count": 57,
   "id": "6c9daa5c",
   "metadata": {},
   "outputs": [
    {
     "data": {
      "text/plain": [
       "array(['Bl? et produits', 'Riz (Eq Blanchi)', 'Orge et produits',\n",
       "       'Ma?s et produits', 'Seigle et produits', 'Avoine',\n",
       "       'Millet et produits', 'Sorgho et produits', 'C?r?ales, Autres'],\n",
       "      dtype=object)"
      ]
     },
     "execution_count": 57,
     "metadata": {},
     "output_type": "execute_result"
    }
   ],
   "source": [
    "# Visualisation de tout les types de céréales \n",
    "cereales['Produit'].unique()"
   ]
  },
  {
   "cell_type": "code",
   "execution_count": 58,
   "id": "38a88327",
   "metadata": {},
   "outputs": [],
   "source": [
    "# Création d'une liste avec nos produits céréales.\n",
    "liste_cerealees = ['ble et produits', 'riz et produits', 'orge et produits',\n",
    "       'mais et produits', 'seigle et produits', 'avoine',\n",
    "       'millet et produits', 'sorgho et produits', 'cereales, autres']"
   ]
  },
  {
   "cell_type": "code",
   "execution_count": 59,
   "id": "2df5e19d",
   "metadata": {
    "scrolled": false
   },
   "outputs": [],
   "source": [
    "# Avoir dans un tableau uniquement les données des produits présents dans la liste ci dessus. \n",
    "cereales = dispo_alim.loc[dispo_alim[\"produit\"].isin(liste_cerealees),]"
   ]
  },
  {
   "cell_type": "code",
   "execution_count": 60,
   "id": "8965d3a2",
   "metadata": {},
   "outputs": [
    {
     "name": "stdout",
     "output_type": "stream",
     "text": [
      "La disponibilité interieure total de céréales en 2017 est de 50892000000 kg .\n"
     ]
    }
   ],
   "source": [
    "# On calcul maintenant la disponibilité interieure total des céréales : \n",
    "\n",
    "dispo_int_cere_2017 = round(cereales['disponibilite interieure'].sum())\n",
    "print('La disponibilité interieure total de céréales en 2017 est de ' + str(dispo_int_cere_2017) + ' kg .')"
   ]
  },
  {
   "cell_type": "code",
   "execution_count": 61,
   "id": "66d64e73",
   "metadata": {},
   "outputs": [
    {
     "name": "stdout",
     "output_type": "stream",
     "text": [
      "La part de céréales attribué à : aliments pour animaux est : 69.34 %\n",
      "La part de céréales attribué à : nourriture est : 18.13 %\n",
      "La part de céréales attribué à : pertes est : 2.55 %\n",
      "La part de céréales attribué à : autres utilisations est : 3.13 %\n",
      "La part de céréales attribué à : semences est : 7.25 %\n",
      "La part de céréales attribué à : traitement est : 0.39 %\n"
     ]
    }
   ],
   "source": [
    "# Grâce à une boucle FOR, on calcul les differentes part.\n",
    "colonne = ['aliments pour animaux','nourriture','pertes','autres utilisations','semences','traitement']\n",
    "\n",
    "for x in colonne:\n",
    "    print('La part de céréales attribué à : '+ x + ' est : ' + str(\"{:.2f}\".format((cereales[x].sum()/dispo_int_cere_2017)*100)) + ' %')\n"
   ]
  },
  {
   "cell_type": "code",
   "execution_count": 62,
   "id": "9c0d7124",
   "metadata": {},
   "outputs": [
    {
     "data": {
      "image/png": "[encoded data removed]",
      "text/plain": [
       "<Figure size 648x648 with 1 Axes>"
      ]
     },
     "metadata": {},
     "output_type": "display_data"
    }
   ],
   "source": [
    "# Representation graphique des part de l'utilisation de la disponibilité intérieure des céréales en 2017\n",
    "\n",
    "plt.figure(figsize=(9,9))\n",
    "x = [69.34 ,18.13 ,2.55 ,3.13 ,7.25 ,0.39]\n",
    "plt.pie(x, labels = ['aliment pour animaux', 'nourriture', 'pertes', 'autres utilisations','semences','traitement'],\n",
    "        normalize = True,\n",
    "        autopct = lambda x: str(round(x,2)) + '%')\n",
    "plt.title('Les differentes part de l utilisation de la disponibilité intérieure des céréales en 2017 ',\n",
    "fontdict={'family':'serif',\n",
    "                    'color' : 'darkblue',\n",
    "                    'weight' : 'bold',\n",
    "                    'size' : 18}) \n",
    "\n",
    "plt.show()"
   ]
  },
  {
   "cell_type": "markdown",
   "id": "1c20d4e4",
   "metadata": {},
   "source": [
    "### Mélanie nous demande de lui donner les pays ayant le plus de disponibilité par habitant."
   ]
  },
  {
   "cell_type": "code",
   "execution_count": 63,
   "id": "2dbc65ac",
   "metadata": {},
   "outputs": [],
   "source": [
    "# Calcul de la disponibilité en calories pour une personne par ans.\n",
    "dispo_cal = dispo_popula['disponibilite alimentaire (cal/personne/jour)']*365"
   ]
  },
  {
   "cell_type": "code",
   "execution_count": 64,
   "id": "b06df515",
   "metadata": {},
   "outputs": [],
   "source": [
    "# Insertion de cette nouvelle donnée dans le dataframe.\n",
    "dispo_popula['disponibilite alimentaire (cal/personne/ans)'] = dispo_cal"
   ]
  },
  {
   "cell_type": "code",
   "execution_count": 65,
   "id": "c6fd8098",
   "metadata": {
    "scrolled": false
   },
   "outputs": [
    {
     "data": {
      "text/html": [
       "<div>\n",
       "<style scoped>\n",
       "    .dataframe tbody tr th:only-of-type {\n",
       "        vertical-align: middle;\n",
       "    }\n",
       "\n",
       "    .dataframe tbody tr th {\n",
       "        vertical-align: top;\n",
       "    }\n",
       "\n",
       "    .dataframe thead th {\n",
       "        text-align: right;\n",
       "    }\n",
       "</style>\n",
       "<table border=\"1\" class=\"dataframe\">\n",
       "  <thead>\n",
       "    <tr style=\"text-align: right;\">\n",
       "      <th></th>\n",
       "      <th>pays</th>\n",
       "      <th>produit</th>\n",
       "      <th>disponibilite alimentaire (cal/personne/jour)</th>\n",
       "      <th>disponibilite alimentaire (cal/personne/ans)</th>\n",
       "      <th>nbr habitant en millions</th>\n",
       "    </tr>\n",
       "  </thead>\n",
       "  <tbody>\n",
       "    <tr>\n",
       "      <th>0</th>\n",
       "      <td>afghanistan</td>\n",
       "      <td>abats comestible</td>\n",
       "      <td>5.0</td>\n",
       "      <td>1825.0</td>\n",
       "      <td>36296113.0</td>\n",
       "    </tr>\n",
       "    <tr>\n",
       "      <th>1</th>\n",
       "      <td>afghanistan</td>\n",
       "      <td>agrumes, autres</td>\n",
       "      <td>1.0</td>\n",
       "      <td>365.0</td>\n",
       "      <td>36296113.0</td>\n",
       "    </tr>\n",
       "    <tr>\n",
       "      <th>2</th>\n",
       "      <td>afghanistan</td>\n",
       "      <td>aliments pour enfants</td>\n",
       "      <td>1.0</td>\n",
       "      <td>365.0</td>\n",
       "      <td>36296113.0</td>\n",
       "    </tr>\n",
       "    <tr>\n",
       "      <th>3</th>\n",
       "      <td>afghanistan</td>\n",
       "      <td>ananas</td>\n",
       "      <td>0.0</td>\n",
       "      <td>0.0</td>\n",
       "      <td>36296113.0</td>\n",
       "    </tr>\n",
       "    <tr>\n",
       "      <th>4</th>\n",
       "      <td>afghanistan</td>\n",
       "      <td>bananes</td>\n",
       "      <td>4.0</td>\n",
       "      <td>1460.0</td>\n",
       "      <td>36296113.0</td>\n",
       "    </tr>\n",
       "  </tbody>\n",
       "</table>\n",
       "</div>"
      ],
      "text/plain": [
       "          pays                produit  \\\n",
       "0  afghanistan       abats comestible   \n",
       "1  afghanistan        agrumes, autres   \n",
       "2  afghanistan  aliments pour enfants   \n",
       "3  afghanistan                 ananas   \n",
       "4  afghanistan                bananes   \n",
       "\n",
       "   disponibilite alimentaire (cal/personne/jour)  \\\n",
       "0                                            5.0   \n",
       "1                                            1.0   \n",
       "2                                            1.0   \n",
       "3                                            0.0   \n",
       "4                                            4.0   \n",
       "\n",
       "   disponibilite alimentaire (cal/personne/ans)  nbr habitant en millions  \n",
       "0                                        1825.0                36296113.0  \n",
       "1                                         365.0                36296113.0  \n",
       "2                                         365.0                36296113.0  \n",
       "3                                           0.0                36296113.0  \n",
       "4                                        1460.0                36296113.0  "
      ]
     },
     "execution_count": 65,
     "metadata": {},
     "output_type": "execute_result"
    }
   ],
   "source": [
    "# Visualitation du rendu de l'etape précedente.\n",
    "dispo_popula.loc[0:15605 , ['pays','produit','disponibilite alimentaire (cal/personne/jour)','disponibilite alimentaire (cal/personne/ans)','nbr habitant en millions']].head()"
   ]
  },
  {
   "cell_type": "code",
   "execution_count": 66,
   "id": "8a3c24d4",
   "metadata": {
    "scrolled": false
   },
   "outputs": [
    {
     "data": {
      "text/html": [
       "<div>\n",
       "<style scoped>\n",
       "    .dataframe tbody tr th:only-of-type {\n",
       "        vertical-align: middle;\n",
       "    }\n",
       "\n",
       "    .dataframe tbody tr th {\n",
       "        vertical-align: top;\n",
       "    }\n",
       "\n",
       "    .dataframe thead th {\n",
       "        text-align: right;\n",
       "    }\n",
       "</style>\n",
       "<table border=\"1\" class=\"dataframe\">\n",
       "  <thead>\n",
       "    <tr style=\"text-align: right;\">\n",
       "      <th></th>\n",
       "      <th>disponibilite alimentaire (cal/personne/jour)</th>\n",
       "    </tr>\n",
       "    <tr>\n",
       "      <th>pays</th>\n",
       "      <th></th>\n",
       "    </tr>\n",
       "  </thead>\n",
       "  <tbody>\n",
       "    <tr>\n",
       "      <th>republique centrafricaine</th>\n",
       "      <td>1879.0</td>\n",
       "    </tr>\n",
       "    <tr>\n",
       "      <th>zambie</th>\n",
       "      <td>1924.0</td>\n",
       "    </tr>\n",
       "    <tr>\n",
       "      <th>madagascar</th>\n",
       "      <td>2056.0</td>\n",
       "    </tr>\n",
       "    <tr>\n",
       "      <th>afghanistan</th>\n",
       "      <td>2087.0</td>\n",
       "    </tr>\n",
       "    <tr>\n",
       "      <th>haiti</th>\n",
       "      <td>2089.0</td>\n",
       "    </tr>\n",
       "    <tr>\n",
       "      <th>republique populaire democratique de coree</th>\n",
       "      <td>2093.0</td>\n",
       "    </tr>\n",
       "    <tr>\n",
       "      <th>tchad</th>\n",
       "      <td>2109.0</td>\n",
       "    </tr>\n",
       "    <tr>\n",
       "      <th>zimbabwe</th>\n",
       "      <td>2113.0</td>\n",
       "    </tr>\n",
       "    <tr>\n",
       "      <th>ouganda</th>\n",
       "      <td>2126.0</td>\n",
       "    </tr>\n",
       "    <tr>\n",
       "      <th>timor_leste</th>\n",
       "      <td>2129.0</td>\n",
       "    </tr>\n",
       "  </tbody>\n",
       "</table>\n",
       "</div>"
      ],
      "text/plain": [
       "                                            disponibilite alimentaire (cal/personne/jour)\n",
       "pays                                                                                     \n",
       "republique centrafricaine                                                          1879.0\n",
       "zambie                                                                             1924.0\n",
       "madagascar                                                                         2056.0\n",
       "afghanistan                                                                        2087.0\n",
       "haiti                                                                              2089.0\n",
       "republique populaire democratique de coree                                         2093.0\n",
       "tchad                                                                              2109.0\n",
       "zimbabwe                                                                           2113.0\n",
       "ouganda                                                                            2126.0\n",
       "timor_leste                                                                        2129.0"
      ]
     },
     "execution_count": 66,
     "metadata": {},
     "output_type": "execute_result"
    }
   ],
   "source": [
    "# Somme de la disponibilité de protéines en grammes par personnes par ans de chaque produit dans chaque pays\n",
    "# Classement par ordre croissant de la disponibilité de protéines par pays. \n",
    "dispo_par_habitant_par_pays= dispo_popula[['pays','produit','disponibilite alimentaire (cal/personne/jour)']].groupby(['pays']).sum()\n",
    "dispo_par_habitant_par_pays1 = dispo_par_habitant_par_pays.sort_values(by= 'disponibilite alimentaire (cal/personne/jour)' ,ascending=True).head(10)\n",
    "dispo_par_habitant_par_pays1"
   ]
  },
  {
   "cell_type": "code",
   "execution_count": 67,
   "id": "5df6b29e",
   "metadata": {},
   "outputs": [
    {
     "data": {
      "text/plain": [
       "[1879.0,\n",
       " 1924.0,\n",
       " 2056.0,\n",
       " 2087.0,\n",
       " 2089.0,\n",
       " 2093.0,\n",
       " 2109.0,\n",
       " 2113.0,\n",
       " 2126.0,\n",
       " 2129.0]"
      ]
     },
     "execution_count": 67,
     "metadata": {},
     "output_type": "execute_result"
    }
   ],
   "source": [
    "dispo_par_habitant_par_pays1['disponibilite alimentaire (cal/personne/jour)'].tolist()"
   ]
  },
  {
   "cell_type": "code",
   "execution_count": 68,
   "id": "5b37f3c2",
   "metadata": {
    "scrolled": false
   },
   "outputs": [
    {
     "data": {
      "image/png": "[encoded data removed]",
      "text/plain": [
       "<Figure size 432x288 with 1 Axes>"
      ]
     },
     "metadata": {
      "needs_background": "light"
     },
     "output_type": "display_data"
    }
   ],
   "source": [
    "liste_cal_moins = [1879,1924,2056,2087,2089,2093,2109,2113,2126,2129]\n",
    "dispo_par_habitant_par_pays1.plot(kind='bar')\n",
    "plt.xlabel('Les 10 pays où la disponibilité en calorie par habitant est la moins élevé ',labelpad=20,fontsize=20,fontdict={'family':'serif','color' : 'darkblue','weight' : 'bold', 'size' : 30})\n",
    "plt.legend(bbox_to_anchor=(1,1))\n",
    "\n",
    "i = 0\n",
    "j = 1\n",
    "for i in range(len(dispo_par_habitant_par_pays1)):\n",
    "    plt.annotate(liste_cal_moins[i], ( i, liste_cal_moins[i] + j), ha=\"center\")\n",
    "\n",
    "plt.show()\n"
   ]
  },
  {
   "cell_type": "code",
   "execution_count": 69,
   "id": "7be5b72d",
   "metadata": {},
   "outputs": [
    {
     "data": {
      "text/html": [
       "<div>\n",
       "<style scoped>\n",
       "    .dataframe tbody tr th:only-of-type {\n",
       "        vertical-align: middle;\n",
       "    }\n",
       "\n",
       "    .dataframe tbody tr th {\n",
       "        vertical-align: top;\n",
       "    }\n",
       "\n",
       "    .dataframe thead th {\n",
       "        text-align: right;\n",
       "    }\n",
       "</style>\n",
       "<table border=\"1\" class=\"dataframe\">\n",
       "  <thead>\n",
       "    <tr style=\"text-align: right;\">\n",
       "      <th></th>\n",
       "      <th>disponibilite alimentaire (cal/personne/jour)</th>\n",
       "    </tr>\n",
       "    <tr>\n",
       "      <th>pays</th>\n",
       "      <th></th>\n",
       "    </tr>\n",
       "  </thead>\n",
       "  <tbody>\n",
       "    <tr>\n",
       "      <th>autriche</th>\n",
       "      <td>3770.0</td>\n",
       "    </tr>\n",
       "    <tr>\n",
       "      <th>belgique</th>\n",
       "      <td>3737.0</td>\n",
       "    </tr>\n",
       "    <tr>\n",
       "      <th>turquie</th>\n",
       "      <td>3708.0</td>\n",
       "    </tr>\n",
       "    <tr>\n",
       "      <th>états_unis d_amerique</th>\n",
       "      <td>3682.0</td>\n",
       "    </tr>\n",
       "    <tr>\n",
       "      <th>israel</th>\n",
       "      <td>3610.0</td>\n",
       "    </tr>\n",
       "    <tr>\n",
       "      <th>irlande</th>\n",
       "      <td>3602.0</td>\n",
       "    </tr>\n",
       "    <tr>\n",
       "      <th>italie</th>\n",
       "      <td>3578.0</td>\n",
       "    </tr>\n",
       "    <tr>\n",
       "      <th>luxembourg</th>\n",
       "      <td>3540.0</td>\n",
       "    </tr>\n",
       "    <tr>\n",
       "      <th>égypte</th>\n",
       "      <td>3518.0</td>\n",
       "    </tr>\n",
       "    <tr>\n",
       "      <th>allemagne</th>\n",
       "      <td>3503.0</td>\n",
       "    </tr>\n",
       "  </tbody>\n",
       "</table>\n",
       "</div>"
      ],
      "text/plain": [
       "                       disponibilite alimentaire (cal/personne/jour)\n",
       "pays                                                                \n",
       "autriche                                                      3770.0\n",
       "belgique                                                      3737.0\n",
       "turquie                                                       3708.0\n",
       "états_unis d_amerique                                         3682.0\n",
       "israel                                                        3610.0\n",
       "irlande                                                       3602.0\n",
       "italie                                                        3578.0\n",
       "luxembourg                                                    3540.0\n",
       "égypte                                                        3518.0\n",
       "allemagne                                                     3503.0"
      ]
     },
     "execution_count": 69,
     "metadata": {},
     "output_type": "execute_result"
    }
   ],
   "source": [
    "# Somme de la disponibilité de protéines en grammes par personnes par ans de chaque produit dans chaque pays\n",
    "# Classement par ordre décroissant de la disponibilité de protéines par pays. \n",
    "dispo_par_habitant_par_pays= dispo_popula[['pays','produit','disponibilite alimentaire (cal/personne/jour)']].groupby(['pays']).sum()\n",
    "dispo_par_habitant_par_pays2 = dispo_par_habitant_par_pays.sort_values(by= 'disponibilite alimentaire (cal/personne/jour)' ,ascending=False).head(10)\n",
    "dispo_par_habitant_par_pays2"
   ]
  },
  {
   "cell_type": "code",
   "execution_count": 70,
   "id": "f8e4bbdf",
   "metadata": {},
   "outputs": [
    {
     "data": {
      "text/plain": [
       "[3770.0,\n",
       " 3737.0,\n",
       " 3708.0,\n",
       " 3682.0,\n",
       " 3610.0,\n",
       " 3602.0,\n",
       " 3578.0,\n",
       " 3540.0,\n",
       " 3518.0,\n",
       " 3503.0]"
      ]
     },
     "execution_count": 70,
     "metadata": {},
     "output_type": "execute_result"
    }
   ],
   "source": [
    "dispo_par_habitant_par_pays2['disponibilite alimentaire (cal/personne/jour)'].tolist()"
   ]
  },
  {
   "cell_type": "code",
   "execution_count": 71,
   "id": "ac54dd63",
   "metadata": {
    "scrolled": false
   },
   "outputs": [
    {
     "data": {
      "image/png": "[encoded data removed]",
      "text/plain": [
       "<Figure size 432x288 with 1 Axes>"
      ]
     },
     "metadata": {
      "needs_background": "light"
     },
     "output_type": "display_data"
    }
   ],
   "source": [
    "liste_cal_plus =[3770, 3737, 3708,3682, 3610, 3602, 3578, 3540, 3518, 3503]\n",
    "dispo_par_habitant_par_pays2.plot(kind='bar')\n",
    "plt.xlabel('Les 10 pays où la disponibilité en calorie par habitant est la plus élevé ',labelpad=20,fontsize=20,fontdict={'family':'serif','color' : 'darkblue','weight' : 'bold', 'size' : 30})\n",
    "plt.legend(bbox_to_anchor=(1,1))\n",
    "i = 0\n",
    "j = 1\n",
    "for i in range(len(dispo_par_habitant_par_pays2)):\n",
    "    plt.annotate(liste_cal_plus[i], ( i, liste_cal_plus[i] + j), ha=\"center\")\n",
    "plt.show()"
   ]
  },
  {
   "cell_type": "markdown",
   "id": "3e3f2972",
   "metadata": {},
   "source": [
    "### Question VI - Utilisation du manioc par la Thaïlande aux égards de la proportion de personnes en sous-nutrition"
   ]
  },
  {
   "cell_type": "code",
   "execution_count": 72,
   "id": "5ad04754",
   "metadata": {},
   "outputs": [
    {
     "data": {
      "text/html": [
       "<div>\n",
       "<style scoped>\n",
       "    .dataframe tbody tr th:only-of-type {\n",
       "        vertical-align: middle;\n",
       "    }\n",
       "\n",
       "    .dataframe tbody tr th {\n",
       "        vertical-align: top;\n",
       "    }\n",
       "\n",
       "    .dataframe thead th {\n",
       "        text-align: right;\n",
       "    }\n",
       "</style>\n",
       "<table border=\"1\" class=\"dataframe\">\n",
       "  <thead>\n",
       "    <tr style=\"text-align: right;\">\n",
       "      <th></th>\n",
       "      <th>pays</th>\n",
       "      <th>nbr prsn en sous alim en millions</th>\n",
       "      <th>nbr habitant en millions</th>\n",
       "      <th>prop par pays</th>\n",
       "    </tr>\n",
       "  </thead>\n",
       "  <tbody>\n",
       "    <tr>\n",
       "      <th>185</th>\n",
       "      <td>thailande</td>\n",
       "      <td>6200000.0</td>\n",
       "      <td>69209810.0</td>\n",
       "      <td>9.0</td>\n",
       "    </tr>\n",
       "  </tbody>\n",
       "</table>\n",
       "</div>"
      ],
      "text/plain": [
       "          pays  nbr prsn en sous alim en millions  nbr habitant en millions  \\\n",
       "185  thailande                          6200000.0                69209810.0   \n",
       "\n",
       "     prop par pays  \n",
       "185            9.0  "
      ]
     },
     "execution_count": 72,
     "metadata": {},
     "output_type": "execute_result"
    }
   ],
   "source": [
    "# La proportion de personnes en sous nutrition en Thaïlande en 2017.\n",
    "popu_sous_nutri_thai = popu_X_sousnutri['pays'] == 'thailande'\n",
    "popu_X_sousnutri[popu_sous_nutri_thai]"
   ]
  },
  {
   "cell_type": "code",
   "execution_count": 73,
   "id": "93e30889",
   "metadata": {
    "scrolled": false
   },
   "outputs": [
    {
     "data": {
      "text/html": [
       "<div>\n",
       "<style scoped>\n",
       "    .dataframe tbody tr th:only-of-type {\n",
       "        vertical-align: middle;\n",
       "    }\n",
       "\n",
       "    .dataframe tbody tr th {\n",
       "        vertical-align: top;\n",
       "    }\n",
       "\n",
       "    .dataframe thead th {\n",
       "        text-align: right;\n",
       "    }\n",
       "</style>\n",
       "<table border=\"1\" class=\"dataframe\">\n",
       "  <thead>\n",
       "    <tr style=\"text-align: right;\">\n",
       "      <th></th>\n",
       "      <th>pays</th>\n",
       "      <th>produit</th>\n",
       "      <th>origine</th>\n",
       "      <th>aliments pour animaux</th>\n",
       "      <th>autres utilisations</th>\n",
       "      <th>disponibilite alimentaire (cal/personne/jour)</th>\n",
       "      <th>disponibilite alimentaire en quantite (kg/personne/an)</th>\n",
       "      <th>disponibilite de matiere grasse en quantite (g/personne/jour)</th>\n",
       "      <th>disponibilite de proteines en quantite (g/personne/jour)</th>\n",
       "      <th>disponibilite interieure</th>\n",
       "      <th>exportations _ quantite</th>\n",
       "      <th>importations _ quantite</th>\n",
       "      <th>nourriture</th>\n",
       "      <th>pertes</th>\n",
       "      <th>production</th>\n",
       "      <th>semences</th>\n",
       "      <th>traitement</th>\n",
       "      <th>variation de stock</th>\n",
       "      <th>nbr habitant en millions</th>\n",
       "      <th>disponibilite alimentaire (cal/personne/ans)</th>\n",
       "    </tr>\n",
       "  </thead>\n",
       "  <tbody>\n",
       "    <tr>\n",
       "      <th>13809</th>\n",
       "      <td>thailande</td>\n",
       "      <td>manioc</td>\n",
       "      <td>vegetale</td>\n",
       "      <td>1.800000e+09</td>\n",
       "      <td>2.081000e+09</td>\n",
       "      <td>40.0</td>\n",
       "      <td>13.0</td>\n",
       "      <td>0.05</td>\n",
       "      <td>0.14</td>\n",
       "      <td>6.264000e+09</td>\n",
       "      <td>2.521400e+10</td>\n",
       "      <td>1.250000e+09</td>\n",
       "      <td>871000000.0</td>\n",
       "      <td>1.511000e+09</td>\n",
       "      <td>3.022800e+10</td>\n",
       "      <td>0.0</td>\n",
       "      <td>0.0</td>\n",
       "      <td>0.0</td>\n",
       "      <td>69209810.0</td>\n",
       "      <td>14600.0</td>\n",
       "    </tr>\n",
       "  </tbody>\n",
       "</table>\n",
       "</div>"
      ],
      "text/plain": [
       "            pays produit   origine  aliments pour animaux  \\\n",
       "13809  thailande  manioc  vegetale           1.800000e+09   \n",
       "\n",
       "       autres utilisations  disponibilite alimentaire (cal/personne/jour)  \\\n",
       "13809         2.081000e+09                                           40.0   \n",
       "\n",
       "       disponibilite alimentaire en quantite (kg/personne/an)  \\\n",
       "13809                                               13.0        \n",
       "\n",
       "       disponibilite de matiere grasse en quantite (g/personne/jour)  \\\n",
       "13809                                               0.05               \n",
       "\n",
       "       disponibilite de proteines en quantite (g/personne/jour)  \\\n",
       "13809                                               0.14          \n",
       "\n",
       "       disponibilite interieure  exportations _ quantite  \\\n",
       "13809              6.264000e+09             2.521400e+10   \n",
       "\n",
       "       importations _ quantite   nourriture        pertes    production  \\\n",
       "13809             1.250000e+09  871000000.0  1.511000e+09  3.022800e+10   \n",
       "\n",
       "       semences  traitement  variation de stock  nbr habitant en millions  \\\n",
       "13809       0.0         0.0                 0.0                69209810.0   \n",
       "\n",
       "       disponibilite alimentaire (cal/personne/ans)  \n",
       "13809                                       14600.0  "
      ]
     },
     "execution_count": 73,
     "metadata": {},
     "output_type": "execute_result"
    }
   ],
   "source": [
    "# Les données sur le manioc pour la Thaïlande.\n",
    "thai_manioc= dispo_popula.loc[(dispo_alim[\"produit\"]==\"manioc\") & (dispo_alim[\"pays\"]==\"thailande\")]\n",
    "thai_manioc"
   ]
  },
  {
   "cell_type": "code",
   "execution_count": 74,
   "id": "8e216b6d",
   "metadata": {},
   "outputs": [
    {
     "name": "stdout",
     "output_type": "stream",
     "text": [
      "Proportion de manioc exporté est de 83.41 %\n"
     ]
    }
   ],
   "source": [
    "# Calcul du taux d'exportation du manioc en Thaïlande\n",
    "taux_export =(thai_manioc[\"exportations _ quantite\"].iloc[0] /thai_manioc[\"production\"].iloc[0] )*100\n",
    "print('Proportion de manioc exporté est de', \"{:.2f}\".format(taux_export), \"%\")"
   ]
  },
  {
   "cell_type": "code",
   "execution_count": 75,
   "id": "f06f5078",
   "metadata": {},
   "outputs": [
    {
     "name": "stdout",
     "output_type": "stream",
     "text": [
      "La disponibilité alimentaire du manioc en Thaïlande est de 1010463226 calories\n"
     ]
    }
   ],
   "source": [
    "# Calcul de la disponibilité alimentaire du manioc en Thaïlande\n",
    "dispo_alim_thai = thai_manioc[\"disponibilite alimentaire (cal/personne/jour)\"].iloc[0]*365 * thai_manioc['nbr habitant en millions'].iloc[0]\n",
    "print('La disponibilité alimentaire du manioc en Thaïlande est de ' + \"{:.0f}\".format(dispo_alim_thai/10**3) + ' calories')"
   ]
  },
  {
   "cell_type": "code",
   "execution_count": 76,
   "id": "8cff1fc7",
   "metadata": {},
   "outputs": [
    {
     "name": "stdout",
     "output_type": "stream",
     "text": [
      "Ayant seulement 16.59% de manioc restant en Thaïlande apres exportation.On peux se dire que si la Thaïlande diminue sa quantité exporter alors la disponibilité alimentaire du manioc en Thailande augmentera .\n"
     ]
    }
   ],
   "source": [
    "prop_manioc_thailand = 100 - taux_export\n",
    "print('Ayant seulement ' + (str(\"{:.2f}\".format(prop_manioc_thailand))) + '% de manioc restant en Thaïlande apres exportation.On peux se dire que si la Thaïlande diminue sa quantité exporter alors la disponibilité alimentaire du manioc en Thailande augmentera .')"
   ]
  }
 ],
 "metadata": {
  "kernelspec": {
   "display_name": "Python 3 (ipykernel)",
   "language": "python",
   "name": "python3"
  },
  "language_info": {
   "codemirror_mode": {
    "name": "ipython",
    "version": 3
   },
   "file_extension": ".py",
   "mimetype": "text/x-python",
   "name": "python",
   "nbconvert_exporter": "python",
   "pygments_lexer": "ipython3",
   "version": "3.9.7"
  }
 },
 "nbformat": 4,
 "nbformat_minor": 5
}
